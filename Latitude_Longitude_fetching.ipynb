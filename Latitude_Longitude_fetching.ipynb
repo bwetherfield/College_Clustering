{
 "cells": [
  {
   "cell_type": "code",
   "execution_count": null,
   "metadata": {},
   "outputs": [],
   "source": [
    "!conda install geopy"
   ]
  },
  {
   "cell_type": "code",
   "execution_count": null,
   "metadata": {},
   "outputs": [],
   "source": [
    "!pip install geopy"
   ]
  },
  {
   "cell_type": "code",
   "execution_count": 1,
   "metadata": {},
   "outputs": [],
   "source": [
    "from geopy import Nominatim"
   ]
  },
  {
   "cell_type": "code",
   "execution_count": 12,
   "metadata": {},
   "outputs": [],
   "source": [
    "locator = Nominatim(user_agent='university-locales')"
   ]
  },
  {
   "cell_type": "code",
   "execution_count": null,
   "metadata": {},
   "outputs": [],
   "source": [
    "locations = locator.geocode('Harvard University', exactly_one=False)"
   ]
  },
  {
   "cell_type": "code",
   "execution_count": null,
   "metadata": {},
   "outputs": [],
   "source": [
    "locations[0].address"
   ]
  },
  {
   "cell_type": "code",
   "execution_count": null,
   "metadata": {},
   "outputs": [],
   "source": [
    "from statistics import mean"
   ]
  },
  {
   "cell_type": "code",
   "execution_count": null,
   "metadata": {},
   "outputs": [],
   "source": [
    "longitudes = map(lambda x: x.longitude, locations)"
   ]
  },
  {
   "cell_type": "code",
   "execution_count": null,
   "metadata": {},
   "outputs": [],
   "source": [
    "longitudes = list(longitudes)"
   ]
  },
  {
   "cell_type": "code",
   "execution_count": null,
   "metadata": {},
   "outputs": [],
   "source": [
    "latitudes = list(map(lambda x: x.latitude, locations))"
   ]
  },
  {
   "cell_type": "code",
   "execution_count": null,
   "metadata": {},
   "outputs": [],
   "source": [
    "latitudes"
   ]
  },
  {
   "cell_type": "code",
   "execution_count": null,
   "metadata": {},
   "outputs": [],
   "source": [
    "housing = locator.geocode('Harvard University, Cambridge', exactly_one=False)"
   ]
  },
  {
   "cell_type": "code",
   "execution_count": null,
   "metadata": {},
   "outputs": [],
   "source": [
    "housing"
   ]
  },
  {
   "cell_type": "code",
   "execution_count": null,
   "metadata": {},
   "outputs": [],
   "source": [
    "locations"
   ]
  },
  {
   "cell_type": "code",
   "execution_count": null,
   "metadata": {},
   "outputs": [],
   "source": [
    "locator.geocode('Columbia University', exactly_one=False)"
   ]
  },
  {
   "cell_type": "code",
   "execution_count": 2,
   "metadata": {},
   "outputs": [],
   "source": [
    "import pandas as pd"
   ]
  },
  {
   "cell_type": "code",
   "execution_count": 3,
   "metadata": {},
   "outputs": [],
   "source": [
    "data = pd.read_csv('school_type_rank_aid.csv')"
   ]
  },
  {
   "cell_type": "code",
   "execution_count": 4,
   "metadata": {},
   "outputs": [],
   "source": [
    "data = data.drop(columns='Unnamed: 0')"
   ]
  },
  {
   "cell_type": "code",
   "execution_count": 5,
   "metadata": {},
   "outputs": [
    {
     "data": {
      "text/html": [
       "<div>\n",
       "<style scoped>\n",
       "    .dataframe tbody tr th:only-of-type {\n",
       "        vertical-align: middle;\n",
       "    }\n",
       "\n",
       "    .dataframe tbody tr th {\n",
       "        vertical-align: top;\n",
       "    }\n",
       "\n",
       "    .dataframe thead th {\n",
       "        text-align: right;\n",
       "    }\n",
       "</style>\n",
       "<table border=\"1\" class=\"dataframe\">\n",
       "  <thead>\n",
       "    <tr style=\"text-align: right;\">\n",
       "      <th></th>\n",
       "      <th>University</th>\n",
       "      <th>Large</th>\n",
       "      <th>Medium</th>\n",
       "      <th>Public</th>\n",
       "      <th>Liberal Arts</th>\n",
       "      <th>Small</th>\n",
       "      <th>Rank</th>\n",
       "      <th>Private</th>\n",
       "      <th>Total Cost of Attendance</th>\n",
       "      <th>Full-Time Undergrads</th>\n",
       "      <th>Full-Time Nonresident Aliens</th>\n",
       "      <th>Percentage of Nonresident Aliens to All Undergrads</th>\n",
       "      <th>Policy: Need-based</th>\n",
       "      <th>Policy: Merit</th>\n",
       "      <th>Policy: No Aid</th>\n",
       "      <th>Percentage of Nonresident Aliens Receiving Aid</th>\n",
       "      <th>Average Aid Award</th>\n",
       "      <th>Average Cost with Aid</th>\n",
       "      <th>Expected Cost</th>\n",
       "    </tr>\n",
       "  </thead>\n",
       "  <tbody>\n",
       "    <tr>\n",
       "      <th>0</th>\n",
       "      <td>Massachusetts Institute of Technology</td>\n",
       "      <td>False</td>\n",
       "      <td>True</td>\n",
       "      <td>False</td>\n",
       "      <td>False</td>\n",
       "      <td>False</td>\n",
       "      <td>1.0</td>\n",
       "      <td>True</td>\n",
       "      <td>73160.0</td>\n",
       "      <td>73160.0</td>\n",
       "      <td>457.0</td>\n",
       "      <td>10.0</td>\n",
       "      <td>True</td>\n",
       "      <td>True</td>\n",
       "      <td>False</td>\n",
       "      <td>78.0</td>\n",
       "      <td>56675.0</td>\n",
       "      <td>16485.0</td>\n",
       "      <td>28887.0</td>\n",
       "    </tr>\n",
       "    <tr>\n",
       "      <th>1</th>\n",
       "      <td>Stanford University</td>\n",
       "      <td>False</td>\n",
       "      <td>True</td>\n",
       "      <td>False</td>\n",
       "      <td>False</td>\n",
       "      <td>False</td>\n",
       "      <td>2.0</td>\n",
       "      <td>True</td>\n",
       "      <td>75470.0</td>\n",
       "      <td>75470.0</td>\n",
       "      <td>739.0</td>\n",
       "      <td>11.0</td>\n",
       "      <td>True</td>\n",
       "      <td>True</td>\n",
       "      <td>False</td>\n",
       "      <td>27.0</td>\n",
       "      <td>60250.0</td>\n",
       "      <td>15220.0</td>\n",
       "      <td>59083.0</td>\n",
       "    </tr>\n",
       "    <tr>\n",
       "      <th>2</th>\n",
       "      <td>Yale University</td>\n",
       "      <td>False</td>\n",
       "      <td>True</td>\n",
       "      <td>False</td>\n",
       "      <td>False</td>\n",
       "      <td>False</td>\n",
       "      <td>3.0</td>\n",
       "      <td>True</td>\n",
       "      <td>76490.0</td>\n",
       "      <td>76490.0</td>\n",
       "      <td>646.0</td>\n",
       "      <td>11.0</td>\n",
       "      <td>True</td>\n",
       "      <td>True</td>\n",
       "      <td>False</td>\n",
       "      <td>57.0</td>\n",
       "      <td>62089.0</td>\n",
       "      <td>14401.0</td>\n",
       "      <td>41120.0</td>\n",
       "    </tr>\n",
       "    <tr>\n",
       "      <th>3</th>\n",
       "      <td>Harvard University</td>\n",
       "      <td>False</td>\n",
       "      <td>True</td>\n",
       "      <td>False</td>\n",
       "      <td>False</td>\n",
       "      <td>False</td>\n",
       "      <td>4.0</td>\n",
       "      <td>True</td>\n",
       "      <td>73800.0</td>\n",
       "      <td>73800.0</td>\n",
       "      <td>814.0</td>\n",
       "      <td>12.0</td>\n",
       "      <td>True</td>\n",
       "      <td>True</td>\n",
       "      <td>False</td>\n",
       "      <td>73.0</td>\n",
       "      <td>61703.0</td>\n",
       "      <td>12097.0</td>\n",
       "      <td>29001.0</td>\n",
       "    </tr>\n",
       "    <tr>\n",
       "      <th>4</th>\n",
       "      <td>Princeton University</td>\n",
       "      <td>False</td>\n",
       "      <td>True</td>\n",
       "      <td>False</td>\n",
       "      <td>False</td>\n",
       "      <td>False</td>\n",
       "      <td>5.0</td>\n",
       "      <td>True</td>\n",
       "      <td>70850.0</td>\n",
       "      <td>70850.0</td>\n",
       "      <td>653.0</td>\n",
       "      <td>12.0</td>\n",
       "      <td>True</td>\n",
       "      <td>True</td>\n",
       "      <td>False</td>\n",
       "      <td>70.0</td>\n",
       "      <td>54271.0</td>\n",
       "      <td>16579.0</td>\n",
       "      <td>32702.0</td>\n",
       "    </tr>\n",
       "  </tbody>\n",
       "</table>\n",
       "</div>"
      ],
      "text/plain": [
       "                              University  Large  Medium  Public  Liberal Arts  \\\n",
       "0  Massachusetts Institute of Technology  False    True   False         False   \n",
       "1                    Stanford University  False    True   False         False   \n",
       "2                        Yale University  False    True   False         False   \n",
       "3                     Harvard University  False    True   False         False   \n",
       "4                   Princeton University  False    True   False         False   \n",
       "\n",
       "   Small  Rank  Private  Total Cost of Attendance  Full-Time Undergrads  \\\n",
       "0  False   1.0     True                   73160.0               73160.0   \n",
       "1  False   2.0     True                   75470.0               75470.0   \n",
       "2  False   3.0     True                   76490.0               76490.0   \n",
       "3  False   4.0     True                   73800.0               73800.0   \n",
       "4  False   5.0     True                   70850.0               70850.0   \n",
       "\n",
       "   Full-Time Nonresident Aliens   \\\n",
       "0                          457.0   \n",
       "1                          739.0   \n",
       "2                          646.0   \n",
       "3                          814.0   \n",
       "4                          653.0   \n",
       "\n",
       "   Percentage of Nonresident Aliens to All Undergrads  Policy: Need-based  \\\n",
       "0                                               10.0                 True   \n",
       "1                                               11.0                 True   \n",
       "2                                               11.0                 True   \n",
       "3                                               12.0                 True   \n",
       "4                                               12.0                 True   \n",
       "\n",
       "   Policy: Merit  Policy: No Aid  \\\n",
       "0           True           False   \n",
       "1           True           False   \n",
       "2           True           False   \n",
       "3           True           False   \n",
       "4           True           False   \n",
       "\n",
       "   Percentage of Nonresident Aliens Receiving Aid  Average Aid Award  \\\n",
       "0                                            78.0            56675.0   \n",
       "1                                            27.0            60250.0   \n",
       "2                                            57.0            62089.0   \n",
       "3                                            73.0            61703.0   \n",
       "4                                            70.0            54271.0   \n",
       "\n",
       "   Average Cost with Aid  Expected Cost  \n",
       "0                16485.0        28887.0  \n",
       "1                15220.0        59083.0  \n",
       "2                14401.0        41120.0  \n",
       "3                12097.0        29001.0  \n",
       "4                16579.0        32702.0  "
      ]
     },
     "execution_count": 5,
     "metadata": {},
     "output_type": "execute_result"
    }
   ],
   "source": [
    "data.head()"
   ]
  },
  {
   "cell_type": "code",
   "execution_count": 6,
   "metadata": {},
   "outputs": [],
   "source": [
    "locations = []"
   ]
  },
  {
   "cell_type": "code",
   "execution_count": 7,
   "metadata": {},
   "outputs": [],
   "source": [
    "def index():\n",
    "    num = 0\n",
    "    while True:\n",
    "        yield num\n",
    "        num += 1"
   ]
  },
  {
   "cell_type": "code",
   "execution_count": 8,
   "metadata": {},
   "outputs": [
    {
     "ename": "TypeError",
     "evalue": "'function' object is not an iterator",
     "output_type": "error",
     "traceback": [
      "\u001b[0;31m---------------------------------------------------------------------------\u001b[0m",
      "\u001b[0;31mTypeError\u001b[0m                                 Traceback (most recent call last)",
      "\u001b[0;32m<ipython-input-8-98afa13d6eb2>\u001b[0m in \u001b[0;36m<module>\u001b[0;34m\u001b[0m\n\u001b[0;32m----> 1\u001b[0;31m \u001b[0mi\u001b[0m \u001b[0;34m=\u001b[0m \u001b[0mnext\u001b[0m\u001b[0;34m(\u001b[0m\u001b[0mindex\u001b[0m\u001b[0;34m)\u001b[0m\u001b[0;34m\u001b[0m\u001b[0;34m\u001b[0m\u001b[0m\n\u001b[0m",
      "\u001b[0;31mTypeError\u001b[0m: 'function' object is not an iterator"
     ]
    }
   ],
   "source": [
    "i = next(index)"
   ]
  },
  {
   "cell_type": "code",
   "execution_count": 9,
   "metadata": {},
   "outputs": [],
   "source": [
    "ind = index()"
   ]
  },
  {
   "cell_type": "code",
   "execution_count": 10,
   "metadata": {},
   "outputs": [
    {
     "data": {
      "text/plain": [
       "0"
      ]
     },
     "execution_count": 10,
     "metadata": {},
     "output_type": "execute_result"
    }
   ],
   "source": [
    "i = next(ind)"
   ]
  },
  {
   "cell_type": "code",
   "execution_count": 11,
   "metadata": {},
   "outputs": [],
   "source": [
    "i = 0"
   ]
  },
  {
   "cell_type": "code",
   "execution_count": 13,
   "metadata": {},
   "outputs": [],
   "source": [
    "names = data['University']"
   ]
  },
  {
   "cell_type": "code",
   "execution_count": 14,
   "metadata": {},
   "outputs": [],
   "source": [
    "name = names[i]"
   ]
  },
  {
   "cell_type": "code",
   "execution_count": 15,
   "metadata": {},
   "outputs": [
    {
     "data": {
      "text/plain": [
       "'Massachusetts Institute of Technology'"
      ]
     },
     "execution_count": 15,
     "metadata": {},
     "output_type": "execute_result"
    }
   ],
   "source": [
    "name"
   ]
  },
  {
   "cell_type": "code",
   "execution_count": 16,
   "metadata": {},
   "outputs": [],
   "source": [
    "locations.append(locator.geocode(name, exactly_one=False))"
   ]
  },
  {
   "cell_type": "code",
   "execution_count": 17,
   "metadata": {},
   "outputs": [
    {
     "data": {
      "text/plain": [
       "[[Location(Massachusetts Institute of Technology, Linskey Way, East Cambridge, Cambridge, Middlesex County, Massachusetts, 02142, United States of America, (42.3583961, -71.09567787663931, 0.0))]]"
      ]
     },
     "execution_count": 17,
     "metadata": {},
     "output_type": "execute_result"
    }
   ],
   "source": [
    "locations"
   ]
  },
  {
   "cell_type": "code",
   "execution_count": 18,
   "metadata": {},
   "outputs": [],
   "source": [
    "i = next(ind)"
   ]
  },
  {
   "cell_type": "code",
   "execution_count": 105,
   "metadata": {},
   "outputs": [],
   "source": [
    "i=0"
   ]
  },
  {
   "cell_type": "code",
   "execution_count": 20,
   "metadata": {},
   "outputs": [],
   "source": [
    "locations.append(locator.geocode(names[i], exactly_one=False))"
   ]
  },
  {
   "cell_type": "code",
   "execution_count": 108,
   "metadata": {},
   "outputs": [
    {
     "data": {
      "text/plain": [
       "[]"
      ]
     },
     "execution_count": 108,
     "metadata": {},
     "output_type": "execute_result"
    }
   ],
   "source": [
    "locations"
   ]
  },
  {
   "cell_type": "code",
   "execution_count": 111,
   "metadata": {},
   "outputs": [],
   "source": [
    "while True:\n",
    "    try:\n",
    "        locations.append(locator.geocode(names[i], exactly_one=False))\n",
    "        i += 1\n",
    "    except KeyError:\n",
    "        break"
   ]
  },
  {
   "cell_type": "code",
   "execution_count": 112,
   "metadata": {},
   "outputs": [
    {
     "data": {
      "text/plain": [
       "78"
      ]
     },
     "execution_count": 112,
     "metadata": {},
     "output_type": "execute_result"
    }
   ],
   "source": [
    "i"
   ]
  },
  {
   "cell_type": "code",
   "execution_count": null,
   "metadata": {},
   "outputs": [],
   "source": []
  },
  {
   "cell_type": "code",
   "execution_count": 113,
   "metadata": {},
   "outputs": [],
   "source": [
    "get = locator.geocode('The University of Texas at Austin', exactly_one=False)\n"
   ]
  },
  {
   "cell_type": "code",
   "execution_count": 93,
   "metadata": {},
   "outputs": [
    {
     "data": {
      "text/plain": [
       "University                                            University of Texas - Austin\n",
       "Large                                                                         True\n",
       "Medium                                                                       False\n",
       "Public                                                                        True\n",
       "Liberal Arts                                                                 False\n",
       "Small                                                                        False\n",
       "Rank                                                                            51\n",
       "Private                                                                      False\n",
       "Total Cost of Attendance                                                     26506\n",
       "Full-Time Undergrads                                                         26506\n",
       "Full-Time Nonresident Aliens                                                  2160\n",
       "Percentage of Nonresident Aliens to All Undergrads                               6\n",
       "Policy: Need-based                                                            True\n",
       "Policy: Merit                                                                 True\n",
       "Policy: No Aid                                                               False\n",
       "Percentage of Nonresident Aliens Receiving Aid                                  25\n",
       "Average Aid Award                                                             8028\n",
       "Average Cost with Aid                                                        18478\n",
       "Expected Cost                                                                24477\n",
       "Name: 49, dtype: object"
      ]
     },
     "execution_count": 93,
     "metadata": {},
     "output_type": "execute_result"
    }
   ],
   "source": [
    "data.iloc[49]"
   ]
  },
  {
   "cell_type": "code",
   "execution_count": 114,
   "metadata": {},
   "outputs": [],
   "source": [
    "locations[49] = get"
   ]
  },
  {
   "cell_type": "code",
   "execution_count": 115,
   "metadata": {},
   "outputs": [
    {
     "data": {
      "text/plain": [
       "[[Location(Massachusetts Institute of Technology, Linskey Way, East Cambridge, Cambridge, Middlesex County, Massachusetts, 02142, United States of America, (42.3583961, -71.09567787663931, 0.0))],\n",
       " [Location(Stanford University, Addison Avenue, University South, Palo Alto, Santa Clara County, California, 94301, United States of America, (37.431313849999995, -122.16936535498309, 0.0)),\n",
       "  Location(314, Lomita Drive, Stanford, Santa Clara County, California, 94305-6015, United States of America, (37.43375535, -122.17079270156404, 0.0)),\n",
       "  Location(295, Galvez Street, Stanford, Santa Clara County, California, 94305-6015, United States of America, (37.4316091, -122.1636112, 0.0))],\n",
       " [Location(Yale University, Neenan Street, Orange, New Haven County, Connecticut, 06477, United States of America, (41.25713055, -72.98966960152231, 0.0)),\n",
       "  Location(Yale University Art Gallery, Chapel Street, Downtown, Barnesville, New Haven, New Haven County, Connecticut, 06515, United States of America, (41.3084354, -72.93087953034963, 0.0)),\n",
       "  Location(Yale Center for British Art, Chapel Street, Downtown, Barnesville, New Haven, New Haven County, Connecticut, 06510-2302, United States of America, (41.3078965, -72.93086073093221, 0.0)),\n",
       "  Location(Yale Collection of Musical Instruments, Hillhouse Avenue, Downtown, Barnesville, New Haven, New Haven County, Connecticut, 06511, United States of America, (41.3124042, -72.92377785, 0.0)),\n",
       "  Location(Peabody Museum of Natural History, Whitney Avenue, East Rock, Barnesville, New Haven, New Haven County, Connecticut, 06511, United States of America, (41.31602455, -72.9211390455342, 0.0)),\n",
       "  Location(Yale University, Prospect Walk, Downtown, Barnesville, New Haven, New Haven County, Connecticut, 06511, United States of America, (41.3154623, -72.9257231, 0.0)),\n",
       "  Location(Yale University, Trumbull Street, East Rock, Barnesville, New Haven, New Haven County, Connecticut, 06510, United States of America, (41.3135727, -72.9231731, 0.0)),\n",
       "  Location(Yale University, Twin Lakes Road, Totoket, North Branford, New Haven County, Connecticut, 06471, United States of America, (41.31964935, -72.78407872046768, 0.0)),\n",
       "  Location(Visitor Center, Elm Street, Downtown, Barnesville, New Haven, New Haven County, Connecticut, 06511, United States of America, (41.309211899999994, -72.92566039270301, 0.0))],\n",
       " [Location(Harvard University, Athol Street, North Brighton, Allston, Boston, Suffolk County, Massachusetts, 02134-1307, United States of America, (42.36790855, -71.12678237443698, 0.0)),\n",
       "  Location(Peabody Museum of Archaeology and Ethnology, Divinity Avenue, Porter Square, Cambridge, Middlesex County, Massachusetts, 02138, United States of America, (42.378163, -71.1150279, 0.0)),\n",
       "  Location(Harvard University, North Harvard Street, North Brighton, Allston, Boston, Suffolk County, Massachusetts, 02134-1433, United States of America, (42.36790855, -71.12678237443698, 0.0)),\n",
       "  Location(Harvard University, Craigie Circle, Old Cambridge, Cambridge, Middlesex County, Massachusetts, 02138-2801, United States of America, (42.3799343, -71.12719094143193, 0.0)),\n",
       "  Location(Harvard University, Sherman Street, Avon Hill, Cambridge, Middlesex County, Massachusetts, 02140, United States of America, (42.382054100000005, -71.12612232686303, 0.0)),\n",
       "  Location(Harvard University, Akron Street, Cambridgeport, Cambridge, Middlesex County, Massachusetts, 02163, United States of America, (42.365455350000005, -71.11535349423559, 0.0)),\n",
       "  Location(Harvard University, Gorham Street, Porter Square, Cambridge, Middlesex County, Massachusetts, 02138-1901, United States of America, (42.37626005, -71.1164218541897, 0.0))],\n",
       " [Location(Princeton University, Maxwell Lane, Coxs Corner, Princeton, Mercer County, New Jersey, 08540, United States of America, (40.33867515, -74.65836549131683, 0.0)),\n",
       "  Location(Art Museum, Elm Drive, North Princeton, Princeton, Mercer County, New Jersey, 08544, United States of America, (40.346995, -74.65763484228626, 0.0))],\n",
       " [Location(Duke University, Campus Walk Avenue, Crest Street, University Estates, Durham, Durham County, North Carolina, 27705, United States of America, (36.00015569999999, -78.94422972195878, 0.0)),\n",
       "  Location(Nasher Museum of Art, Campus Drive, Burch Avenue, University Estates, Durham, Durham County, North Carolina, 27705, United States of America, (35.9990522, -78.9290629011139, 0.0))],\n",
       " [Location(Brown University, Charlesfield Street, College Hill, Elmwood, Providence, Rhode Island, 02912, United States of America, (41.82687235, -71.40122770696814, 0.0)),\n",
       "  Location(Campus Market, Waterman Street, College Hill, Elmwood, Providence, Rhode Island, 02912, United States of America, (41.8268349, -71.4033489, 0.0))],\n",
       " [Location(Columbia University, West 118th Street, Morningside Heights, Manhattan, Manhattan Community Board 9, New York County, New York, 10027, United States of America, (40.8079488, -73.96179735775709, 0.0)),\n",
       "  Location(Columbia University, Riverside Drive, Morningside Heights, Manhattan, Manhattan Community Board 9, New York County, New York, 10115, United States of America, (40.814856000000006, -73.96101623650988, 0.0)),\n",
       "  Location(Columbia University, West 133rd Street, Manhattanville, Manhattan, Manhattan Community Board 9, New York County, New York, 10027, United States of America, (40.81781605, -73.95792631982619, 0.0))],\n",
       " [Location(University of Pennsylvania, Ludlow Street, Powelton Village, Philadelphia, Philadelphia County, Pennsylvania, 19104, United States of America, (39.9493382, -75.18964402998125, 0.0)),\n",
       "  Location(Penn Museum, South Street, University City, Philadelphia, Philadelphia County, Pennsylvania, 19104, United States of America, (39.949231600000005, -75.19198726503254, 0.0)),\n",
       "  Location(University of Pennsylvania, South 34th Street, Grays Ferry, South Philadelphia, Philadelphia, Philadelphia County, Pennsylvania, 19146, United States of America, (39.940958, -75.1995547790651, 0.0)),\n",
       "  Location(University of Pennsylvania, Walnut Street, University City, Philadelphia, Philadelphia County, Pennsylvania, 19104, United States of America, (39.9532499, -75.1938411, 0.0))],\n",
       " [Location(Rice University, Whitley Street, South Lawn, Houston, Harris County, Texas, 77005, United States of America, (29.716791450000002, -95.40478113393792, 0.0))],\n",
       " [Location(Northwestern University, Ashland Avenue, North Evanston, Evanston, Cook County, Illinois, 60201, United States of America, (42.0551164, -87.67581113482166, 0.0)),\n",
       "  Location(NorthWestern University, Airport Access Road, Barangay 50, Buttong, Laoag, Ilocos Norte, Ilocos, 2900, Philippines, (18.18681385, 120.570248756692, 0.0))],\n",
       " [Location(Vanderbilt University, 25th Avenue North, Cherokee Park, Nashville-Davidson, Davidson County, Tennessee, 37203, United States of America, (36.14380105, -86.80281889095295, 0.0)),\n",
       "  Location(Vanderbilt Drive, Fox Meadow Farms, Loveland, Hamilton County, Ohio, 45140, United States of America, (39.273706, -84.291249, 0.0))],\n",
       " [Location(Pomona College, College Avenue, Claremont, Los Angeles County, California, 91711, United States of America, (34.09775205, -117.71173242411513, 0.0)),\n",
       "  Location(Pomona College, College Avenue, Claremont, Los Angeles County, California, 91711, United States of America, (34.0949015, -117.7146648, 0.0))],\n",
       " [Location(Washington University in St. Louis, Kingsland Avenue, Ames Place, University City, Saint Louis County, Missouri, 63105, United States of America, (38.64724015, -90.3084017323959, 0.0)),\n",
       "  Location(Washington University in St. Louis, Throop Drive, University City, Saint Louis County, Missouri, 63105, United States of America, (38.6502018, -90.3114481, 0.0)),\n",
       "  Location(Washington University in St. Louis, Forest Park Parkway, University City, Saint Louis County, Missouri, 63105, United States of America, (38.6513336, -90.3138327, 0.0))],\n",
       " [Location(Dartmouth College, North Main Street, Rivercrest, Hanover, Grafton County, New Hampshire, 03755, United States of America, (43.705244, -72.29052961917418, 0.0)),\n",
       "  Location(Hood Annex, East Wheelock Street, Rivercrest, Hanover, Grafton County, New Hampshire, 03755, United States of America, (43.70188795, -72.28700881237212, 0.0)),\n",
       "  Location(2, East Wheelock Street, Hanover, Grafton County, New Hampshire, 03755, United States of America, (43.702055900000005, -72.28877675448297, 0.0)),\n",
       "  Location(Titcomb Cabin, Hazen Trail, Norwich, Windsor County, Vermont, 03755, United States of America, (43.6945719, -72.3036793, 0.0))],\n",
       " [Location(California Institute of Technology, South Holliston Avenue, Bungalow Heaven, Pasadena, Los Angeles County, California, 91126, United States of America, (34.13710185, -118.1252748661162, 0.0))],\n",
       " [Location(University of Notre Dame du Lac, Harrington Drive, Maple Lane, South Bend, Saint Joseph County, Indiana, 46556, United States of America, (41.704567749999995, -86.23822026017265, 0.0)),\n",
       "  Location(University of Notre Dame, Suffolk Street, St. James's, Covent Garden, City of Westminster, London, Greater London, England, SW1Y 4HG, United Kingdom, (51.5082622, -0.1304173, 0.0)),\n",
       "  Location(104;112-126, Broadway, Chippendale, Sydney, Council of the City of Sydney, 2008, Australia, (-33.8849717, 151.19834581458463, 0.0))],\n",
       " [Location(The University of Chicago, South Ellis Avenue, Woodlawn, Chicago, Cook County, Illinois, 60637, United States of America, (41.784977, -87.5905237123017, 0.0)),\n",
       "  Location(The University of Chicago, South Ellis Avenue, Hyde Park, Chicago, Cook County, Illinois, 60637, United States of America, (41.7913505, -87.60084269431965, 0.0)),\n",
       "  Location(Oriental Institute, East 58th Street, Hyde Park, Chicago, Cook County, Illinois, 60637, United States of America, (41.7892454, -87.59771803592608, 0.0))],\n",
       " [Location(University of Southern California, West Jefferson Boulevard, University Park, Los Angeles, Los Angeles County, California, 90089, United States of America, (34.0218833, -118.28586726915088, 0.0)),\n",
       "  Location(USC Fisher Museum of Art, Exposition Boulevard, Exposition Park, Los Angeles, Los Angeles County, California, 90089-0374, United States of America, (34.0186092, -118.2873476, 0.0))],\n",
       " [Location(Cornell University, Arboretum Road, Forest Home, Ithaca Town, Tompkins County, New York, 14853, United States of America, (42.450550699999994, -76.47835129554275, 0.0)),\n",
       "  Location(Johnson Museum of Art, Central Avenue, East Ithaca, Ithaca, Ithaca Town, Tompkins County, New York, 14853, United States of America, (42.4507221, -76.48620432707092, 0.0))],\n",
       " [Location(Bowdoin College, Bowker Street, Linnhaven West, Brunswick, Cumberland County, Maine, 04011, United States of America, (43.90825, -69.9616745820036, 0.0))],\n",
       " [Location(Amherst College, Snell Street, Mill Valley, Amherst, Hampshire County, Massachusetts, 01002, United States of America, (42.37029465, -72.51605459124094, 0.0)),\n",
       "  Location(Beneski Museum of Natural History, Amherst College Service Road A, East Village, Amherst, Hampshire County, Massachusetts, 01004, United States of America, (42.372096, -72.5141535, 0.0)),\n",
       "  Location(Amherst College, East Drive, Mill Valley, Amherst, Hampshire County, Massachusetts, 01004, United States of America, (42.369635, -72.50686304584127, 0.0)),\n",
       "  Location(Amherst College, Boltwood Avenue, Mill Valley, Amherst, Hampshire County, Massachusetts, 01004, United States of America, (42.37289, -72.518814, 0.0))],\n",
       " [Location(500, South State Street, Ann Arbor, Washtenaw County, Michigan, 48109, United States of America, (42.2942142, -83.71003893509601, 0.0)),\n",
       "  Location(1105, North University Avenue, Ann Arbor, Washtenaw County, Michigan, 48109, United States of America, (42.2788567, -83.7342551, 0.0)),\n",
       "  Location(525, South State Street, Ann Arbor, Washtenaw County, Michigan, 48109, United States of America, (42.27559135, -83.7398376850406, 0.0)),\n",
       "  Location(434, South State Street, Ann Arbor, Washtenaw County, Michigan, 48109, United States of America, (42.27674725, -83.74137395257381, 0.0)),\n",
       "  Location(3241, Baxter Road, Ann Arbor, Washtenaw County, Michigan, 48105, United States of America, (42.2983955, -83.6968894, 0.0))],\n",
       " [Location(Georgetown University, O Street Northwest, Georgetown, Washington, District of Columbia, 20057, United States of America, (38.90893925, -77.07457962060826, 0.0)),\n",
       "  Location(جامعة جورجتون, اللقطة, Education City, الريان, 945, قطر Qatar, (25.3179861, 51.44368174819573, 0.0))],\n",
       " [Location(Tufts University, Walker Street, West Somerville, Somerville, Middlesex County, Massachusetts, 02144, United States of America, (42.40629165, -71.11819855889479, 0.0))],\n",
       " [Location(University of California, Los Angeles, Wilshire Boulevard, Westwood Village, Westwood, Los Angeles, Los Angeles County, California, 90024-3990, United States of America, (34.0708781, -118.44684973165106, 0.0))],\n",
       " [Location(Johns Hopkins University, Via Belmeloro, Santo Stefano, Bologna, Emilia-Romagna, 40126, Italia, (44.4947702, 11.3558967, 0.0)),\n",
       "  Location(Johns Hopkins University, Cresmont Avenue, Remington, Baltimore, Maryland, 21211, United States of America, (39.33020225, -76.62183913176027, 0.0)),\n",
       "  Location(Johns Hopkins University, Broschart Road, Hunting Hill, Glenora Hills, Bethesda, Montgomery County, Maryland, 20850, United States of America, (39.1033748, -77.19917453367736, 0.0)),\n",
       "  Location(Johns Hopkins University, Blackwell Road, Hunting Hill, Glenora Hills, Bethesda, Montgomery County, Maryland, 20878-4816, United States of America, (39.101976699999994, -77.19807592179512, 0.0)),\n",
       "  Location(Johns Hopkins University, Medical Center Drive, Hunting Hill, Glenora Hills, Derwood, Montgomery County, Maryland, 20850, United States of America, (39.1027081, -77.1984662092177, 0.0)),\n",
       "  Location(Evergreen Museum & Library, North Charles Street, Loyola/Notre Dame, Baltimore, Maryland, 21210, United States of America, (39.3490736, -76.6208472020819, 0.0))],\n",
       " [Location(Carnegie Mellon University, Holyrood Road, Squirrel Hill North, Pittsburgh, Allegheny County, Pennsylvania, 15213, United States of America, (40.4441619, -79.942728259225, 0.0)),\n",
       "  Location(Carnegie Mellon University, Victoria Place, Adelaide, Adelaide City Council, South Australia, 5000, Australia, (-34.928125300000005, 138.6011843985031, 0.0)),\n",
       "  Location(Carnegie Mellon University, Forbes Avenue, Squirrel Hill North, Pittsburgh, Allegheny County, Pennsylvania, 15213, United States of America, (40.4441619, -79.942728259225, 0.0))],\n",
       " [Location(University of Virginia, Old Farm Road, Charlottesville, Virginia, 22903, United States of America, (38.0410576, -78.50549960183568, 0.0)),\n",
       "  Location(Fralin Museum of Art, Rugby Road, Charlottesville, Virginia, 22904-4119, United States of America, (38.0383657, -78.5029975, 0.0))],\n",
       " [Location(Emory University, Emory Drive Northeast, Emory Highlands, Oakhurst, North Decatur, DeKalb County, Georgia, 30307, United States of America, (33.791570300000004, -84.31837261650668, 0.0)),\n",
       "  Location(Emory University, across the creek, Villa Park, Druid Hills, DeKalb County, Georgia, 30333, United States of America, (33.795867650000005, -84.32778960627682, 0.0)),\n",
       "  Location(Emory University, Clifton Road Northeast, Emory Highlands, Oakhurst, North Decatur, DeKalb County, Georgia, 30329, United States of America, (33.7949315, -84.3201858947244, 0.0)),\n",
       "  Location(Emory University, Peavine Creek Drive, Emory Highlands, Oakhurst, Druid Hills, DeKalb County, Georgia, 30322, United States of America, (33.79988415, -84.33077531515983, 0.0)),\n",
       "  Location(Emory University, Gatewood Road Northeast, Emory Estates, Oakhurst, North Decatur, DeKalb County, Georgia, 30329, United States of America, (33.7981474, -84.32219362969225, 0.0)),\n",
       "  Location(Emory University, Rainier Falls Drive Northeast, La Vista, North Druid Hills, DeKalb County, Georgia, 30329, United States of America, (33.801038500000004, -84.3176371563319, 0.0)),\n",
       "  Location(Emory University, Andrews Circle, Emory Estates, Oakhurst, North Decatur, DeKalb County, Georgia, 30307, United States of America, (33.7944655, -84.31783370139422, 0.0))],\n",
       " [Location(Haverford College, Carter Road, Haverford Township, Delaware County, Pennsylvania, 19041, United States of America, (40.0071506, -75.30694232576307, 0.0))],\n",
       " [Location(1, Lyman Drive, Northfield, Rice County, Minnesota, 55057, United States of America, (44.47183535, -93.14145805901515, 0.0))],\n",
       " [Location(Middlebury College, Old Chapel Road, Piper Crossing, Middlebury, Addison County, Vermont, 05753, United States of America, (44.00366955, -73.17295278964315, 0.0)),\n",
       "  Location(MiddExpress, Old Chapel Road, Piper Crossing, Middlebury, Addison County, Vermont, 05753, United States of America, (44.0082806, -73.1771448, 0.0)),\n",
       "  Location(Tavern on the Tee, Golf Course Road, Piper Crossing, Middlebury, Addison County, Vermont, 05753, United States of America, (43.9998265, -73.1814111, 0.0)),\n",
       "  Location(The Grille, Old Chapel Road, Piper Crossing, Middlebury, Addison County, Vermont, 05753, United States of America, (44.008188, -73.1773487, 0.0)),\n",
       "  Location(Ralph Myhre Golf Course, Golf Course Road, Piper Crossing, Middlebury, Addison County, Vermont, 05753, United States of America, (43.9998893, -73.181425, 0.0))],\n",
       " [Location(Barnard College, Claremont Avenue, Morningside Heights, Manhattan, Manhattan Community Board 9, New York County, New York, 10115, United States of America, (40.80970505, -73.96338868739625, 0.0))],\n",
       " [Location(Williams College, Hopkins Hall Drive, White Oaks, Williamstown, Berkshire County, Massachusetts, 01267, United States of America, (42.7130236, -73.2030082, 0.0)),\n",
       "  Location(Williams College, Williamstown, Berkshire County, Massachusetts, United States of America, (42.70292235, -73.27741063266964, 0.0)),\n",
       "  Location(Williams College, Berlin Road, South Williamstown, Williamstown, Berkshire County, Massachusetts, 01267, United States of America, (42.70645945, -73.27666436459768, 0.0)),\n",
       "  Location(Williams College, Main Street, White Oaks, Williamstown, Berkshire County, Massachusetts, 01267, United States of America, (42.71830355, -73.20116290178919, 0.0))],\n",
       " [Location(Washington and Lee University, Boneyard Road, Rockbridge County, Virginia, 24450, United States of America, (37.7929993, -79.44773490479687, 0.0))],\n",
       " [Location(Georgia Institute of Technology, 9th Street Northwest, Bellwood, Vine City, Atlanta, Fulton County, Georgia, 30318, United States of America, (33.776033, -84.39884086001581, 0.0))],\n",
       " [Location(Wellesley College, Weston Road, Wellesley Fells, Wellesley, Norfolk County, Massachusetts, 02482, United States of America, (42.291776049999996, -71.3032751636105, 0.0)),\n",
       "  Location(Wellesley College, Marine Drive, Okiwi iti, Days Bay, Lower Hutt, Lower Hutt City, Wellington, 5013, New Zealand, (-41.2780248, 174.90708779064317, 0.0))],\n",
       " [Location(500, College Avenue, Swarthmore, Delaware County, Pennsylvania, 19081, United States of America, (39.903550100000004, -75.35409205575698, 0.0)),\n",
       "  Location(4, South Chester Road, Swarthmore, Delaware County, Pennsylvania, 19081, United States of America, (39.9017953, -75.351171, 0.0))],\n",
       " [Location(University of California, Berkeley, De La Veaga Trail, Orinda, Contra Costa County, California, 94563, United States of America, (37.8753497, -122.23963364918777, 0.0)),\n",
       "  Location(Berkeley Art Museum - Pacific Film Archive, Center Street, Downtown Berkeley, Berkeley, Alameda County, California, 94704, United States of America, (37.87094645, -122.26639872292523, 0.0)),\n",
       "  Location(Magnes Collection of Jewish Art and Life, Allston Way, Downtown Berkeley, Berkeley, Alameda County, California, 93710, United States of America, (37.8697577, -122.26688013658828, 0.0))],\n",
       " [Location(Wake Forest University, Wake Forest Road, Reynolda Village, Winston-Salem, Forsyth County, North Carolina, 27106, United States of America, (36.134335, -80.2781152, 0.0)),\n",
       "  Location(Wake Forest University, Wake Forest Road, Oak Crest, Winston-Salem, Forsyth County, North Carolina, 27109, United States of America, (36.13389295, -80.27555779127688, 0.0))],\n",
       " [Location(University of North Carolina, Old Fraternity Row, Baby Hollow, Chapel Hill, Orange County, North Carolina, 27599-3175, United States of America, (35.90503535, -79.04775326525107, 0.0)),\n",
       "  Location(University of North Carolina at Chapel Hill, South Road, Baby Hollow, Chapel Hill, Orange County, North Carolina, 27514, United States of America, (35.9097801, -79.0478583, 0.0))],\n",
       " [Location(Northeastern University, Speare Place, Roxbury Crossing, South End, Boston, Suffolk County, Massachusetts, United States of America, (42.3390301, -71.08791294953176, 0.0)),\n",
       "  Location(Northeastern University, Huntington Avenue, Nubian Square, South End, Boston, Suffolk County, Massachusetts, 02199, United States of America, (42.33510525, -71.08925787470238, 0.0)),\n",
       "  Location(Northeastern University Visitor Center, Leon Street, Roxbury Crossing, Roxbury, Boston, Suffolk County, Massachusetts, 02120, United States of America, (42.3373345, -71.0916395, 0.0)),\n",
       "  Location(Northeastern University, Terry Avenue North, South Lake Union, Belltown, Seattle, King County, Washington, 98109, United States of America, (47.6230201, -122.3373546, 0.0)),\n",
       "  Location(ISEC Pedestrian Bridge, Roxbury Crossing, South End, Boston, Suffolk County, Massachusetts, 02120, United States of America, (42.3376892, -71.0880218, 0.0)),\n",
       "  Location(the Market, Huntington Avenue, Roxbury Crossing, South End, Boston, Suffolk County, Massachusetts, 02199, United States of America, (42.3392406, -71.0877357, 0.0))],\n",
       " [Location(Davidson College, Delburg Street, Davidson, Mecklenburg County, North Carolina, 22117, United States of America, (35.5032193, -80.83393027613258, 0.0))],\n",
       " [Location(New York University, West 4th Street, Washington Square Village, Manhattan, New York, New York County, New York, 10014, United States of America, (40.72925325, -73.99625393609625, 0.0)),\n",
       "  Location(New York University, Rruga Kodra e Diellit, Kodra e Diellit 1, Lagjja e Vjetër (Selita e Vogël), Farkë, Qarku i Tiranës, Shqipëria qendrore, 1045, Shqipëria, (41.3094389, 19.8019281, 0.0)),\n",
       "  Location(Универзитет „Њујорк“, Улица 1, Сарај, Скопје, Општина Сарај, Град Скопје, Скопски регион, 1000 SK, Македонија, (42.00206815, 21.33621603523527, 0.0))],\n",
       " [Location(Bates College, Mt. David Trail, Lewiston, Androscoggin County, Maine, 04240, United States of America, (44.1060827, -70.20232303437507, 0.0)),\n",
       "  Location(Bates College, Lewiston, Androscoggin County, Maine, United States of America, (44.1051308, -70.2005723674043, 0.0)),\n",
       "  Location(Bates College, College Street, Lewiston, Androscoggin County, Maine, 04240, United States of America, (44.1084861, -70.2042658, 0.0))],\n",
       " [Location(Boston College, Commonwealth Avenue, Chestnut Hill, Newton, Middlesex County, Massachusetts, 02467, United States of America, (42.3354481, -71.16813864023061, 0.0)),\n",
       "  Location(Boston College, Skirbeck Road, Haven Village, Skirbeck, Boston, Lincolnshire, East Midlands, England, PE21 6DN, United Kingdom, (52.9723577, -0.0192598, 0.0)),\n",
       "  Location(Boston College, Commonwealth Avenue, Chestnut Hill, Newton, Middlesex County, Massachusetts, 02435, United States of America, (42.3401702, -71.167045, 0.0)),\n",
       "  Location(Boston College, Avenida Hipólito Yrigoyen, Banfield, Partido de Lomas de Zamora, Buenos Aires, 1828, Argentina, (-34.744613, -58.399516954617624, 0.0)),\n",
       "  Location(Boston College, Avenida Santa Sofia, Alto Macul, La Florida, Provincia de Santiago, Región Metropolitana de Santiago, 7940697, Chile, (-33.512354, -70.53513955466852, 0.0)),\n",
       "  Location(Boston College, Avenida Trinidad, Barrio Máquina Vieja, Municipio Santa Cruz de la Sierra, Provincia Andrés Ibáñez, Santa Cruz, 10260, Bolivia, (-17.77379175, -63.17428742713466, 0.0)),\n",
       "  Location(Lincoln College, Avenida La Florida, La Florida, Provincia de Santiago, Región Metropolitana de Santiago, 8240000, Chile, (-33.54412145, -70.56897945763717, 0.0)),\n",
       "  Location(1380, La Sinfonía, Población El Molino, Maipú, Provincia de Santiago, Región Metropolitana de Santiago, 9250678, Chile, (-33.49064955, -70.76821036979919, 0.0))],\n",
       " [Location(Claremont McKenna College, East 9th Street, Claremont, Los Angeles County, California, 91711:91786, United States of America, (34.1023497, -117.7067162, 0.0)),\n",
       "  Location(Claremont McKenna College, East 9th Street, Claremont, Los Angeles County, California, 91711:91786, United States of America, (34.10068655, -117.70394618320302, 0.0))],\n",
       " [Location(Harvey Mudd College, Platt Boulevard, Claremont, Los Angeles County, California, 91711, United States of America, (34.10599325, -117.70870925266648, 0.0))],\n",
       " [Location(1, San Jacinto Boulevard, Austin, Travis County, Texas, 78712, United States of America, (30.284151, -97.73195598080218, 0.0)),\n",
       "  Location(2152, San Jacinto Boulevard, Austin, Travis County, Texas, 78712, United States of America, (30.284458, -97.7342106, 0.0))],\n",
       " [Location(Colby College, Waterville, Kennebec County, Maine, 04901-5630, United States of America, (44.5670242, -69.6655086, 0.0)),\n",
       "  Location(4000, Mayflower Hill Drive, Waterville, Kennebec County, Maine, 04901, United States of America, (44.564148200000005, -69.66244618005328, 0.0)),\n",
       "  Location(24, Washington Street, Waterville, Kennebec County, Maine, 04963, United States of America, (44.5554954, -69.6734001, 0.0)),\n",
       "  Location(12, Washington Street, Waterville, Kennebec County, Maine, 04963, United States of America, (44.5577549, -69.6718964, 0.0))],\n",
       " [Location(Hamilton College, College Hill Road, Kirkland, Town of Kirkland, Oneida County, New York, 13323, United States of America, (43.0537974, -75.40689907682119, 0.0)),\n",
       "  Location(Hamilton College, Bothwell Road, Hamilton, South Lanarkshire, Scotland, ML3 0AY, United Kingdom, (55.78336485, -4.046252052508375, 0.0)),\n",
       "  Location(Hamilton College, Pendleton Street, Waverly, Columbia, Richland County, South Carolina, 29201:29205, United States of America, (33.999973749999995, -81.02616555941444, 0.0)),\n",
       "  Location(Hamilton College, 1st Street Northwest, Registry Park, Mason City, Cerro Gordo County, Iowa, 50401, United States of America, (43.1523089, -93.2033175, 0.0)),\n",
       "  Location(Hamilton College, Kelly Drive, Stony Brook, Suffolk County, New York, 11794, United States of America, (40.9137523, -73.13048442274987, 0.0)),\n",
       "  Location(Hamilton College, College Hill Road, Kirkland, Town of Kirkland, Oneida County, New York, 13323, United States of America, (43.0491525, -75.4088294, 0.0)),\n",
       "  Location(Hamilton College, Rue des Cent-Gaulettes, Mon Desert, Mahébourg, Grand Port, 50810, Mauritius, (-20.4095822, 57.7044329, 0.0)),\n",
       "  Location(The Wellin Museum of Art, College Hill Road, Kirkland, Town of Kirkland, Oneida County, New York, 13323, United States of America, (43.0511417, -75.40958309513795, 0.0))],\n",
       " [Location(Wesleyan University, Cross Street, Newfield Heights, Middletown, Middlesex County, Connecticut, 06457, United States of America, (41.5559033, -72.65598837715102, 0.0))],\n",
       " [Location(Lehigh University, Library Drive, Sayre Park, Bethlehem, Northampton County, Pennsylvania, 18015, United States of America, (40.6068028, -75.3782488, 0.0))],\n",
       " [Location(College of William and Mary, Bright Street, Walnut Hills, Williamsburg, Virginia, 23186, United States of America, (37.2698853, -76.71525592671914, 0.0))],\n",
       " [Location(Colgate University, Campus Footpaths, Hamilton, Town of Hamilton, Madison County, New York, 13346, United States of America, (42.815403700000005, -75.53958155911818, 0.0)),\n",
       "  Location(Colgate University, Hamilton, Town of Hamilton, Madison County, New York, 13346, United States of America, (42.821071, -75.536975, 0.0)),\n",
       "  Location(Colgate University, Hamilton, Town of Hamilton, Madison County, New York, United States of America, (42.81332005, -75.53772882479016, 0.0)),\n",
       "  Location(Colgate University, Hamilton, Town of Hamilton, Madison County, New York, 13346, United States of America, (42.812228, -75.535602, 0.0)),\n",
       "  Location(Colgate Inn, Payne Street, Hamilton, Town of Hamilton, Madison County, New York, 13346, United States of America, (42.827430199999995, -75.54413355675345, 0.0))],\n",
       " [Location(Virginia Polytechnic Institute and State University, Toms Creek Road, Longview Estates, McBryde Village, Blacksburg, Montgomery County, Virginia, 24060-3348, United States of America, (37.21872455, -80.42542518694935, 0.0)),\n",
       "  Location(Virginia Tech, Prince Street, Lyles-Crouch, Rosemont, Alexandria, Virginia, 22314, United States of America, (38.8047606, -77.05135745899457, 0.0)),\n",
       "  Location(The Inn at Virginia Tech, Prices Fork Road, Longview Estates, McBryde Village, Blacksburg, Montgomery County, Virginia, 24061, United States of America, (37.2297868, -80.43079999283316, 0.0)),\n",
       "  Location(Virginia Tech, Kent Street, Longview Estates, Keister Addition, Blacksburg, Montgomery County, Virginia, 24061-9517, United States of America, (37.2267454, -80.4176817, 0.0)),\n",
       "  Location(Virginia Tech, Ag Quad Lane, Longview Estates, Southgate, Blacksburg, Montgomery County, Virginia, 24061-9517, United States of America, (37.2248613, -80.4209183, 0.0)),\n",
       "  Location(Perspective Gallery, Library Plaza, Longview Estates, Keister Addition, Blacksburg, Montgomery County, Virginia, 24060-7401, United States of America, (37.2297439, -80.4177674, 0.0))],\n",
       " [Location(University of Florida, Memorial Road, Daysville, Gainesville, Alachua County, Florida, 32611, United States of America, (29.6328784, -82.34901330482433, 0.0)),\n",
       "  Location(Florida Museum of Natural History, Hull Road, Daysville, City of Gainesville Municipal Boundaries, Alachua County, Florida, 32611, United States of America, (29.635923, -82.37037451054687, 0.0)),\n",
       "  Location(Samuel P. Harn Museum of Art, Hull Road, Daysville, City of Gainesville Municipal Boundaries, Alachua County, Florida, 32611, United States of America, (29.636927, -82.37021349645454, 0.0))],\n",
       " [Location(Boston University, Ipswich Street, Audubon Square, Back Bay, Boston, Suffolk County, Massachusetts, 02115, United States of America, (42.350500350000004, -71.10255990490174, 0.0)),\n",
       "  Location(Boston University, Commonwealth Avenue, Audubon Square, Allston, Boston, Suffolk County, Massachusetts, 02215, United States of America, (42.3520969, -71.12007532463585, 0.0)),\n",
       "  Location(Boston University, Babcock Street, Allston, Boston, Suffolk County, Massachusetts, 02446, United States of America, (42.352261150000004, -71.12140095000001, 0.0)),\n",
       "  Location(100 Baystate Road, Bay State Road, Audubon Square, Back Bay, Boston, Suffolk County, Massachusetts, 02215, United States of America, (42.3499432, -71.0978503, 0.0))],\n",
       " [Location(University of Richmond, Westhampton Way, River Road Hills, Tuckahoe, Richmond City, Virginia, 23173, United States of America, (37.57586225, -77.54129937158409, 0.0))],\n",
       " [Location(Smith College, South Street, Bay State, Northampton, Hampshire County, Massachusetts, 01060, United States of America, (42.31622385, -72.64039314741159, 0.0)),\n",
       "  Location(Smith College, Elm Street, Bay State, Northampton, Hampshire County, Massachusetts, 01063, United States of America, (42.3196141, -72.6375832, 0.0))],\n",
       " [Location(University of Wisconsin-Madison, Bowdoin Road, College Hills, Shorewood Hills, Dane County, Wisconsin, 53705, United States of America, (43.07982815, -89.43066425429006, 0.0)),\n",
       "  Location(UW Geology Museum, West Dayton Street, South Campus, Madison, Dane County, Wisconsin, 53715, United States of America, (43.0705257, -89.4059387, 0.0)),\n",
       "  Location(L.R. Ingersoll Physics Museum, University Avenue, South Campus, Madison, Dane County, Wisconsin, 53706, United States of America, (43.0736469, -89.4054156, 0.0)),\n",
       "  Location(University of Wisconsin Space Place, South Park Street, Bowens Addition, Madison, Dane County, Wisconsin, 53713, United States of America, (43.0407879, -89.3953702, 0.0)),\n",
       "  Location(Flamingo Run, Elm Drive, Oakland Heights, Bowens Addition, Madison, Dane County, Wisconsin, 53706, United States of America, (43.0776853, -89.4176223, 0.0)),\n",
       "  Location(Four Lakes Market, Elm Drive, Oakland Heights, Bowens Addition, Madison, Dane County, Wisconsin, 53706, United States of America, (43.0779167, -89.4178509, 0.0)),\n",
       "  Location(Upham Woods Outdoor Learning Center, County Highway N, Plainville, Town of Lyndon, Juneau County, Wisconsin, 53965, United States of America, (43.64969265, -89.7942184844429, 0.0))],\n",
       " [Location(500, Peabody Drive, Champaign, Champaign County, Illinois, 61820, United States of America, (40.101976, -88.2314378, 0.0)),\n",
       "  Location(University of Illinois at Urbana-Champaign, North Wright Street, Urbana, Champaign County, Illinois, 61820, United States of America, (40.106650099999996, -88.22402607254264, 0.0)),\n",
       "  Location(University of Illinois at Urbana-Champaign, North Coler Avenue, Downtown Urbana, Urbana, Champaign County, Illinois, 61801, United States of America, (40.10053035, -88.23131507323531, 0.0))],\n",
       " [Location(Vassar College, Carriage Hill Lane, Arlington, Town of Poughkeepsie, Dutchess County, New York, 12603, United States of America, (41.686257850000004, -73.89355075020433, 0.0)),\n",
       "  Location(Vassar College, Raymond Avenue, Arlington, Town of Poughkeepsie, Dutchess County, New York, 12604, United States of America, (41.686786, -73.8956971, 0.0))],\n",
       " [Location(University of Georgia, College Station Road, Habersham Hills, Whitehall, Athens-Clarke County Unified Government, Athens-Clarke County, Georgia, 30605, United States of America, (33.9404278, -83.37304904988295, 0.0)),\n",
       "  Location(University of Georgia, Trocha de San Luis, Alto de San Luis, San Luis, Monte Verde, Cantón Puntarenas, 60109, Costa Rica, (10.2829, -84.798143, 0.0)),\n",
       "  Location(University of Georgia, Sanford Drive, Stonemill Run, Spring Valley Estates, Athens-Clarke County Unified Government, Athens-Clarke County, Georgia, 303341458, United States of America, (33.9512108, -83.3737414, 0.0)),\n",
       "  Location(University of Georgia, Mary Street, Garlington Heights Housing Project, Waycross, Ware County, Georgia, 31503, United States of America, (31.2104953, -82.3665186, 0.0)),\n",
       "  Location(University of Georgia, გიორგი მიროტაძის ქუჩა, საბურთალოს რაიონი, ვაკე-საბურთალოს რაიონი, თბილისი, 0171, Georgia / საქართველო, (41.722613300000006, 44.77987745730085, 0.0)),\n",
       "  Location(Georgia Center for Continuing Education, South Lumpkin Street, Five Points, Spring Valley Estates, Athens-Clarke County Unified Government, Athens-Clarke County, Georgia, 30606, United States of America, (33.9445954, -83.37737742312423, 0.0)),\n",
       "  Location(საქართველოს უნივერსიტეტი, მერაბ კოსტავას ქუჩა, ზემო ვეძისი, საბურთალოს რაიონი, ვაკე-საბურთალოს რაიონი, თბილისი, 0171, Georgia / საქართველო, (41.7245497, 44.77955354548397, 0.0))],\n",
       " [Location(Colorado College, East Cache la Poudre Street, Knob Hill, Colorado Springs, El Paso County, Colorado, 80903, United States of America, (38.8480439, -104.8239509314005, 0.0)),\n",
       "  Location(Colorado Springs Fine Arts Center, West Dale Street, Roswell, Colorado Springs, El Paso County, Colorado, 80903, United States of America, (38.845792, -104.82637778704249, 0.0)),\n",
       "  Location(Colorado College, East Cache la Poudre Street, Roswell, Colorado Springs, El Paso County, Colorado, 80903, United States of America, (38.851918049999995, -104.82730131292266, 0.0)),\n",
       "  Location(Langer Sundial, East Cache la Poudre Street, Roswell, Colorado Springs, El Paso County, Colorado, 80903, United States of America, (38.849848, -104.822716, 0.0)),\n",
       "  Location(Paul Best Victory Bell, East Cache la Poudre Street, Roswell, Colorado Springs, El Paso County, Colorado, 80903, United States of America, (38.8487676, -104.8275474, 0.0)),\n",
       "  Location(Spencer Center, North Tejon Street, Lowell Neighborhood, Roswell, Colorado Springs, El Paso County, Colorado, 80903, United States of America, (38.8462532, -104.82315645922235, 0.0)),\n",
       "  Location(Preserve, North Cascade Avenue, Roswell, Colorado Springs, El Paso County, Colorado, 80903, United States of America, (38.8492272, -104.8267719, 0.0)),\n",
       "  Location(Nelson-Griswold \"66\" Service Station, North Nevada Avenue, Lowell Neighborhood, Roswell, Colorado Springs, El Paso County, Colorado, 80903, United States of America, (38.8454208, -104.82058088281903, 0.0))],\n",
       " [Location(The Cooper Union, Astor Place, East Village, Manhattan, Manhattan Community Board 3, New York County, New York, 10003, United States of America, (40.7295282, -73.9905606, 0.0))],\n",
       " [Location(Grinnell College, 8th Avenue, Willows Mobile Home Court, Grinnell, Poweshiek County, Iowa, 50112, United States of America, (41.75111985, -92.71984863278584, 0.0))],\n",
       " [Location(Bucknell Drive, University Hills, Sprinkle Corner, Austin, Travis County, Texas, 78723, United States of America, (30.3219804, -97.6733752, 0.0)),\n",
       "  Location(Bucknell Street, University Oaks, San Antonio, Bexar County, Texas, 78230, United States of America, (29.571095, -98.581544, 0.0)),\n",
       "  Location(Bucknell Avenue, University Gardens, Big Spring, Howard County, Texas, 79720, United States of America, (32.2579399, -101.4474074, 0.0)),\n",
       "  Location(University Drive, Bucknell Heights, Groveton, Fairfax County, Virginia, 22307, United States of America, (38.766652, -77.075045, 0.0)),\n",
       "  Location(Bucknell President's House, University Avenue, Lewisburg, Union County, Pennsylvania, 17837, United States of America, (40.958872799999995, -76.88192481391476, 0.0)),\n",
       "  Location(Alumni House-Bucknell University, University Avenue, Lewisburg, Union County, Pennsylvania, 17837, United States of America, (40.9588889, -76.8816667, 0.0))],\n",
       " [Location(Bryn Mawr College, Montgomery Avenue, Haverford, Lower Merion Township, Montgomery County, Pennsylvania, 19010, United States of America, (40.02813555, -75.31592058518157, 0.0))],\n",
       " [Location(Kenyon College, Wiggins Street, Gambier, College Township, Knox County, Ohio, 43022, United States of America, (40.37264735, -82.39428986783508, 0.0))],\n",
       " [Location(Rensselaer Polytechnic Institute, 8th Street, Downtown, Frear Park, Troy, Rensselaer County, New York, 12180, United States of America, (42.729921950000005, -73.67953982458829, 0.0)),\n",
       "  Location(Rensselaer Polytechnic Institute, Eldridge Court, Frear Park, City of Troy, Rensselaer County, New York, 12180, United States of America, (42.73280325, -73.6622354488153, 0.0)),\n",
       "  Location(Rensselaer Polytechnic Institute, 17th Street, Downtown, Frear Park, City of Troy, Rensselaer County, New York, 12180, United States of America, (42.7357483, -73.67296098476673, 0.0))],\n",
       " [Location(University of Miami, Southwest 57th Avenue, Florida Pioneer Village, Coral Gables, Miami-Dade County, Florida, 33124, United States of America, (25.7172788, -80.27869157646253, 0.0)),\n",
       "  Location(University of Miami, Madruga Avenue, Florida Pioneer Village, Coral Gables, Miami-Dade County, Florida, 33124-6310, United States of America, (25.713398499999997, -80.27732389665681, 0.0)),\n",
       "  Location(University of Miami, Southwest 130th Avenue, Three Lakes, Miami-Dade County, Florida, 33177, United States of America, (25.6234386, -80.404499, 0.0))],\n",
       " [Location(University of California, Santa Barbara, Santa Barbara County, California, 93106, United States of America, (34.4145937, -119.84581949868962, 0.0)),\n",
       "  Location(Art, Design & Architecture Museum, Storke Plaza, Isla Vista, Santa Barbara County, California, United States of America, (34.411944500000004, -119.84908276482224, 0.0))],\n",
       " [Location(Memorial Art Gallery, University Avenue, East End, Cobbs Hill, Rochester, Monroe County, New York, 14607, United States of America, (43.1576969, -77.58829157560066, 0.0)),\n",
       "  Location(University of Rochester, Upper Mount Hope, Crittenden, Rochester, Monroe County, New York, 14627, United States of America, (43.1226985, -77.6307297, 0.0)),\n",
       "  Location(Danforth Dining Center, Towers Road, Strong, Arnett, Rochester, Monroe County, New York, 14642, United States of America, (43.1302114, -77.62642594716263, 0.0))],\n",
       " [Location(6425, Airline Road, University Park, Dallas County, Texas, 75205, United States of America, (32.841801149999995, -96.78152810147064, 0.0))],\n",
       " [Location(Brigham Young University, Apple Avenue, Wasatch, Village at South Campus, Provo, Utah County, Utah, 84606, United States of America, (40.25501105, -111.64965660160263, 0.0)),\n",
       "  Location(BYU Museum of Art, East North Campus Drive, Moon Apartments, Provo, Utah County, Utah, 84604, United States of America, (40.2507298, -111.64794417701245, 0.0)),\n",
       "  Location(BYU Museum of Paleontology, North Canyon Road, Pleasant View, Provo, Utah County, Utah, 84602, United States of America, (40.25651255, -111.65704105119511, 0.0)),\n",
       "  Location(BYU Museum of Peoples and Cultures, East 2230 North, Pleasant View, Provo, Utah County, Utah, 84602, United States of America, (40.2630831, -111.6575908, 0.0))],\n",
       " [Location(Case Western Reserve University, Euclid Avenue, Newton Avenue Historic District, University Circle, Cleveland, Cuyahoga County, Ohio, 44106, United States of America, (41.50138695, -81.60070216159022, 0.0))]]"
      ]
     },
     "execution_count": 115,
     "metadata": {},
     "output_type": "execute_result"
    }
   ],
   "source": [
    "locations"
   ]
  },
  {
   "cell_type": "code",
   "execution_count": 120,
   "metadata": {},
   "outputs": [],
   "source": [
    "filtered = list(filter(lambda x: 'United States of America' in x.address, locations[0]))"
   ]
  },
  {
   "cell_type": "code",
   "execution_count": 121,
   "metadata": {},
   "outputs": [
    {
     "data": {
      "text/plain": [
       "[Location(Massachusetts Institute of Technology, Linskey Way, East Cambridge, Cambridge, Middlesex County, Massachusetts, 02142, United States of America, (42.3583961, -71.09567787663931, 0.0))]"
      ]
     },
     "execution_count": 121,
     "metadata": {},
     "output_type": "execute_result"
    }
   ],
   "source": [
    "filtered"
   ]
  },
  {
   "cell_type": "code",
   "execution_count": 123,
   "metadata": {},
   "outputs": [],
   "source": [
    "filtered_locations = [list(filter(lambda x: 'United States of America' in x.address, location)) for location in locations]"
   ]
  },
  {
   "cell_type": "code",
   "execution_count": 124,
   "metadata": {},
   "outputs": [
    {
     "data": {
      "text/plain": [
       "[[Location(Massachusetts Institute of Technology, Linskey Way, East Cambridge, Cambridge, Middlesex County, Massachusetts, 02142, United States of America, (42.3583961, -71.09567787663931, 0.0))],\n",
       " [Location(Stanford University, Addison Avenue, University South, Palo Alto, Santa Clara County, California, 94301, United States of America, (37.431313849999995, -122.16936535498309, 0.0)),\n",
       "  Location(314, Lomita Drive, Stanford, Santa Clara County, California, 94305-6015, United States of America, (37.43375535, -122.17079270156404, 0.0)),\n",
       "  Location(295, Galvez Street, Stanford, Santa Clara County, California, 94305-6015, United States of America, (37.4316091, -122.1636112, 0.0))],\n",
       " [Location(Yale University, Neenan Street, Orange, New Haven County, Connecticut, 06477, United States of America, (41.25713055, -72.98966960152231, 0.0)),\n",
       "  Location(Yale University Art Gallery, Chapel Street, Downtown, Barnesville, New Haven, New Haven County, Connecticut, 06515, United States of America, (41.3084354, -72.93087953034963, 0.0)),\n",
       "  Location(Yale Center for British Art, Chapel Street, Downtown, Barnesville, New Haven, New Haven County, Connecticut, 06510-2302, United States of America, (41.3078965, -72.93086073093221, 0.0)),\n",
       "  Location(Yale Collection of Musical Instruments, Hillhouse Avenue, Downtown, Barnesville, New Haven, New Haven County, Connecticut, 06511, United States of America, (41.3124042, -72.92377785, 0.0)),\n",
       "  Location(Peabody Museum of Natural History, Whitney Avenue, East Rock, Barnesville, New Haven, New Haven County, Connecticut, 06511, United States of America, (41.31602455, -72.9211390455342, 0.0)),\n",
       "  Location(Yale University, Prospect Walk, Downtown, Barnesville, New Haven, New Haven County, Connecticut, 06511, United States of America, (41.3154623, -72.9257231, 0.0)),\n",
       "  Location(Yale University, Trumbull Street, East Rock, Barnesville, New Haven, New Haven County, Connecticut, 06510, United States of America, (41.3135727, -72.9231731, 0.0)),\n",
       "  Location(Yale University, Twin Lakes Road, Totoket, North Branford, New Haven County, Connecticut, 06471, United States of America, (41.31964935, -72.78407872046768, 0.0)),\n",
       "  Location(Visitor Center, Elm Street, Downtown, Barnesville, New Haven, New Haven County, Connecticut, 06511, United States of America, (41.309211899999994, -72.92566039270301, 0.0))],\n",
       " [Location(Harvard University, Athol Street, North Brighton, Allston, Boston, Suffolk County, Massachusetts, 02134-1307, United States of America, (42.36790855, -71.12678237443698, 0.0)),\n",
       "  Location(Peabody Museum of Archaeology and Ethnology, Divinity Avenue, Porter Square, Cambridge, Middlesex County, Massachusetts, 02138, United States of America, (42.378163, -71.1150279, 0.0)),\n",
       "  Location(Harvard University, North Harvard Street, North Brighton, Allston, Boston, Suffolk County, Massachusetts, 02134-1433, United States of America, (42.36790855, -71.12678237443698, 0.0)),\n",
       "  Location(Harvard University, Craigie Circle, Old Cambridge, Cambridge, Middlesex County, Massachusetts, 02138-2801, United States of America, (42.3799343, -71.12719094143193, 0.0)),\n",
       "  Location(Harvard University, Sherman Street, Avon Hill, Cambridge, Middlesex County, Massachusetts, 02140, United States of America, (42.382054100000005, -71.12612232686303, 0.0)),\n",
       "  Location(Harvard University, Akron Street, Cambridgeport, Cambridge, Middlesex County, Massachusetts, 02163, United States of America, (42.365455350000005, -71.11535349423559, 0.0)),\n",
       "  Location(Harvard University, Gorham Street, Porter Square, Cambridge, Middlesex County, Massachusetts, 02138-1901, United States of America, (42.37626005, -71.1164218541897, 0.0))],\n",
       " [Location(Princeton University, Maxwell Lane, Coxs Corner, Princeton, Mercer County, New Jersey, 08540, United States of America, (40.33867515, -74.65836549131683, 0.0)),\n",
       "  Location(Art Museum, Elm Drive, North Princeton, Princeton, Mercer County, New Jersey, 08544, United States of America, (40.346995, -74.65763484228626, 0.0))],\n",
       " [Location(Duke University, Campus Walk Avenue, Crest Street, University Estates, Durham, Durham County, North Carolina, 27705, United States of America, (36.00015569999999, -78.94422972195878, 0.0)),\n",
       "  Location(Nasher Museum of Art, Campus Drive, Burch Avenue, University Estates, Durham, Durham County, North Carolina, 27705, United States of America, (35.9990522, -78.9290629011139, 0.0))],\n",
       " [Location(Brown University, Charlesfield Street, College Hill, Elmwood, Providence, Rhode Island, 02912, United States of America, (41.82687235, -71.40122770696814, 0.0)),\n",
       "  Location(Campus Market, Waterman Street, College Hill, Elmwood, Providence, Rhode Island, 02912, United States of America, (41.8268349, -71.4033489, 0.0))],\n",
       " [Location(Columbia University, West 118th Street, Morningside Heights, Manhattan, Manhattan Community Board 9, New York County, New York, 10027, United States of America, (40.8079488, -73.96179735775709, 0.0)),\n",
       "  Location(Columbia University, Riverside Drive, Morningside Heights, Manhattan, Manhattan Community Board 9, New York County, New York, 10115, United States of America, (40.814856000000006, -73.96101623650988, 0.0)),\n",
       "  Location(Columbia University, West 133rd Street, Manhattanville, Manhattan, Manhattan Community Board 9, New York County, New York, 10027, United States of America, (40.81781605, -73.95792631982619, 0.0))],\n",
       " [Location(University of Pennsylvania, Ludlow Street, Powelton Village, Philadelphia, Philadelphia County, Pennsylvania, 19104, United States of America, (39.9493382, -75.18964402998125, 0.0)),\n",
       "  Location(Penn Museum, South Street, University City, Philadelphia, Philadelphia County, Pennsylvania, 19104, United States of America, (39.949231600000005, -75.19198726503254, 0.0)),\n",
       "  Location(University of Pennsylvania, South 34th Street, Grays Ferry, South Philadelphia, Philadelphia, Philadelphia County, Pennsylvania, 19146, United States of America, (39.940958, -75.1995547790651, 0.0)),\n",
       "  Location(University of Pennsylvania, Walnut Street, University City, Philadelphia, Philadelphia County, Pennsylvania, 19104, United States of America, (39.9532499, -75.1938411, 0.0))],\n",
       " [Location(Rice University, Whitley Street, South Lawn, Houston, Harris County, Texas, 77005, United States of America, (29.716791450000002, -95.40478113393792, 0.0))],\n",
       " [Location(Northwestern University, Ashland Avenue, North Evanston, Evanston, Cook County, Illinois, 60201, United States of America, (42.0551164, -87.67581113482166, 0.0))],\n",
       " [Location(Vanderbilt University, 25th Avenue North, Cherokee Park, Nashville-Davidson, Davidson County, Tennessee, 37203, United States of America, (36.14380105, -86.80281889095295, 0.0)),\n",
       "  Location(Vanderbilt Drive, Fox Meadow Farms, Loveland, Hamilton County, Ohio, 45140, United States of America, (39.273706, -84.291249, 0.0))],\n",
       " [Location(Pomona College, College Avenue, Claremont, Los Angeles County, California, 91711, United States of America, (34.09775205, -117.71173242411513, 0.0)),\n",
       "  Location(Pomona College, College Avenue, Claremont, Los Angeles County, California, 91711, United States of America, (34.0949015, -117.7146648, 0.0))],\n",
       " [Location(Washington University in St. Louis, Kingsland Avenue, Ames Place, University City, Saint Louis County, Missouri, 63105, United States of America, (38.64724015, -90.3084017323959, 0.0)),\n",
       "  Location(Washington University in St. Louis, Throop Drive, University City, Saint Louis County, Missouri, 63105, United States of America, (38.6502018, -90.3114481, 0.0)),\n",
       "  Location(Washington University in St. Louis, Forest Park Parkway, University City, Saint Louis County, Missouri, 63105, United States of America, (38.6513336, -90.3138327, 0.0))],\n",
       " [Location(Dartmouth College, North Main Street, Rivercrest, Hanover, Grafton County, New Hampshire, 03755, United States of America, (43.705244, -72.29052961917418, 0.0)),\n",
       "  Location(Hood Annex, East Wheelock Street, Rivercrest, Hanover, Grafton County, New Hampshire, 03755, United States of America, (43.70188795, -72.28700881237212, 0.0)),\n",
       "  Location(2, East Wheelock Street, Hanover, Grafton County, New Hampshire, 03755, United States of America, (43.702055900000005, -72.28877675448297, 0.0)),\n",
       "  Location(Titcomb Cabin, Hazen Trail, Norwich, Windsor County, Vermont, 03755, United States of America, (43.6945719, -72.3036793, 0.0))],\n",
       " [Location(California Institute of Technology, South Holliston Avenue, Bungalow Heaven, Pasadena, Los Angeles County, California, 91126, United States of America, (34.13710185, -118.1252748661162, 0.0))],\n",
       " [Location(University of Notre Dame du Lac, Harrington Drive, Maple Lane, South Bend, Saint Joseph County, Indiana, 46556, United States of America, (41.704567749999995, -86.23822026017265, 0.0))],\n",
       " [Location(The University of Chicago, South Ellis Avenue, Woodlawn, Chicago, Cook County, Illinois, 60637, United States of America, (41.784977, -87.5905237123017, 0.0)),\n",
       "  Location(The University of Chicago, South Ellis Avenue, Hyde Park, Chicago, Cook County, Illinois, 60637, United States of America, (41.7913505, -87.60084269431965, 0.0)),\n",
       "  Location(Oriental Institute, East 58th Street, Hyde Park, Chicago, Cook County, Illinois, 60637, United States of America, (41.7892454, -87.59771803592608, 0.0))],\n",
       " [Location(University of Southern California, West Jefferson Boulevard, University Park, Los Angeles, Los Angeles County, California, 90089, United States of America, (34.0218833, -118.28586726915088, 0.0)),\n",
       "  Location(USC Fisher Museum of Art, Exposition Boulevard, Exposition Park, Los Angeles, Los Angeles County, California, 90089-0374, United States of America, (34.0186092, -118.2873476, 0.0))],\n",
       " [Location(Cornell University, Arboretum Road, Forest Home, Ithaca Town, Tompkins County, New York, 14853, United States of America, (42.450550699999994, -76.47835129554275, 0.0)),\n",
       "  Location(Johnson Museum of Art, Central Avenue, East Ithaca, Ithaca, Ithaca Town, Tompkins County, New York, 14853, United States of America, (42.4507221, -76.48620432707092, 0.0))],\n",
       " [Location(Bowdoin College, Bowker Street, Linnhaven West, Brunswick, Cumberland County, Maine, 04011, United States of America, (43.90825, -69.9616745820036, 0.0))],\n",
       " [Location(Amherst College, Snell Street, Mill Valley, Amherst, Hampshire County, Massachusetts, 01002, United States of America, (42.37029465, -72.51605459124094, 0.0)),\n",
       "  Location(Beneski Museum of Natural History, Amherst College Service Road A, East Village, Amherst, Hampshire County, Massachusetts, 01004, United States of America, (42.372096, -72.5141535, 0.0)),\n",
       "  Location(Amherst College, East Drive, Mill Valley, Amherst, Hampshire County, Massachusetts, 01004, United States of America, (42.369635, -72.50686304584127, 0.0)),\n",
       "  Location(Amherst College, Boltwood Avenue, Mill Valley, Amherst, Hampshire County, Massachusetts, 01004, United States of America, (42.37289, -72.518814, 0.0))],\n",
       " [Location(500, South State Street, Ann Arbor, Washtenaw County, Michigan, 48109, United States of America, (42.2942142, -83.71003893509601, 0.0)),\n",
       "  Location(1105, North University Avenue, Ann Arbor, Washtenaw County, Michigan, 48109, United States of America, (42.2788567, -83.7342551, 0.0)),\n",
       "  Location(525, South State Street, Ann Arbor, Washtenaw County, Michigan, 48109, United States of America, (42.27559135, -83.7398376850406, 0.0)),\n",
       "  Location(434, South State Street, Ann Arbor, Washtenaw County, Michigan, 48109, United States of America, (42.27674725, -83.74137395257381, 0.0)),\n",
       "  Location(3241, Baxter Road, Ann Arbor, Washtenaw County, Michigan, 48105, United States of America, (42.2983955, -83.6968894, 0.0))],\n",
       " [Location(Georgetown University, O Street Northwest, Georgetown, Washington, District of Columbia, 20057, United States of America, (38.90893925, -77.07457962060826, 0.0))],\n",
       " [Location(Tufts University, Walker Street, West Somerville, Somerville, Middlesex County, Massachusetts, 02144, United States of America, (42.40629165, -71.11819855889479, 0.0))],\n",
       " [Location(University of California, Los Angeles, Wilshire Boulevard, Westwood Village, Westwood, Los Angeles, Los Angeles County, California, 90024-3990, United States of America, (34.0708781, -118.44684973165106, 0.0))],\n",
       " [Location(Johns Hopkins University, Cresmont Avenue, Remington, Baltimore, Maryland, 21211, United States of America, (39.33020225, -76.62183913176027, 0.0)),\n",
       "  Location(Johns Hopkins University, Broschart Road, Hunting Hill, Glenora Hills, Bethesda, Montgomery County, Maryland, 20850, United States of America, (39.1033748, -77.19917453367736, 0.0)),\n",
       "  Location(Johns Hopkins University, Blackwell Road, Hunting Hill, Glenora Hills, Bethesda, Montgomery County, Maryland, 20878-4816, United States of America, (39.101976699999994, -77.19807592179512, 0.0)),\n",
       "  Location(Johns Hopkins University, Medical Center Drive, Hunting Hill, Glenora Hills, Derwood, Montgomery County, Maryland, 20850, United States of America, (39.1027081, -77.1984662092177, 0.0)),\n",
       "  Location(Evergreen Museum & Library, North Charles Street, Loyola/Notre Dame, Baltimore, Maryland, 21210, United States of America, (39.3490736, -76.6208472020819, 0.0))],\n",
       " [Location(Carnegie Mellon University, Holyrood Road, Squirrel Hill North, Pittsburgh, Allegheny County, Pennsylvania, 15213, United States of America, (40.4441619, -79.942728259225, 0.0)),\n",
       "  Location(Carnegie Mellon University, Forbes Avenue, Squirrel Hill North, Pittsburgh, Allegheny County, Pennsylvania, 15213, United States of America, (40.4441619, -79.942728259225, 0.0))],\n",
       " [Location(University of Virginia, Old Farm Road, Charlottesville, Virginia, 22903, United States of America, (38.0410576, -78.50549960183568, 0.0)),\n",
       "  Location(Fralin Museum of Art, Rugby Road, Charlottesville, Virginia, 22904-4119, United States of America, (38.0383657, -78.5029975, 0.0))],\n",
       " [Location(Emory University, Emory Drive Northeast, Emory Highlands, Oakhurst, North Decatur, DeKalb County, Georgia, 30307, United States of America, (33.791570300000004, -84.31837261650668, 0.0)),\n",
       "  Location(Emory University, across the creek, Villa Park, Druid Hills, DeKalb County, Georgia, 30333, United States of America, (33.795867650000005, -84.32778960627682, 0.0)),\n",
       "  Location(Emory University, Clifton Road Northeast, Emory Highlands, Oakhurst, North Decatur, DeKalb County, Georgia, 30329, United States of America, (33.7949315, -84.3201858947244, 0.0)),\n",
       "  Location(Emory University, Peavine Creek Drive, Emory Highlands, Oakhurst, Druid Hills, DeKalb County, Georgia, 30322, United States of America, (33.79988415, -84.33077531515983, 0.0)),\n",
       "  Location(Emory University, Gatewood Road Northeast, Emory Estates, Oakhurst, North Decatur, DeKalb County, Georgia, 30329, United States of America, (33.7981474, -84.32219362969225, 0.0)),\n",
       "  Location(Emory University, Rainier Falls Drive Northeast, La Vista, North Druid Hills, DeKalb County, Georgia, 30329, United States of America, (33.801038500000004, -84.3176371563319, 0.0)),\n",
       "  Location(Emory University, Andrews Circle, Emory Estates, Oakhurst, North Decatur, DeKalb County, Georgia, 30307, United States of America, (33.7944655, -84.31783370139422, 0.0))],\n",
       " [Location(Haverford College, Carter Road, Haverford Township, Delaware County, Pennsylvania, 19041, United States of America, (40.0071506, -75.30694232576307, 0.0))],\n",
       " [Location(1, Lyman Drive, Northfield, Rice County, Minnesota, 55057, United States of America, (44.47183535, -93.14145805901515, 0.0))],\n",
       " [Location(Middlebury College, Old Chapel Road, Piper Crossing, Middlebury, Addison County, Vermont, 05753, United States of America, (44.00366955, -73.17295278964315, 0.0)),\n",
       "  Location(MiddExpress, Old Chapel Road, Piper Crossing, Middlebury, Addison County, Vermont, 05753, United States of America, (44.0082806, -73.1771448, 0.0)),\n",
       "  Location(Tavern on the Tee, Golf Course Road, Piper Crossing, Middlebury, Addison County, Vermont, 05753, United States of America, (43.9998265, -73.1814111, 0.0)),\n",
       "  Location(The Grille, Old Chapel Road, Piper Crossing, Middlebury, Addison County, Vermont, 05753, United States of America, (44.008188, -73.1773487, 0.0)),\n",
       "  Location(Ralph Myhre Golf Course, Golf Course Road, Piper Crossing, Middlebury, Addison County, Vermont, 05753, United States of America, (43.9998893, -73.181425, 0.0))],\n",
       " [Location(Barnard College, Claremont Avenue, Morningside Heights, Manhattan, Manhattan Community Board 9, New York County, New York, 10115, United States of America, (40.80970505, -73.96338868739625, 0.0))],\n",
       " [Location(Williams College, Hopkins Hall Drive, White Oaks, Williamstown, Berkshire County, Massachusetts, 01267, United States of America, (42.7130236, -73.2030082, 0.0)),\n",
       "  Location(Williams College, Williamstown, Berkshire County, Massachusetts, United States of America, (42.70292235, -73.27741063266964, 0.0)),\n",
       "  Location(Williams College, Berlin Road, South Williamstown, Williamstown, Berkshire County, Massachusetts, 01267, United States of America, (42.70645945, -73.27666436459768, 0.0)),\n",
       "  Location(Williams College, Main Street, White Oaks, Williamstown, Berkshire County, Massachusetts, 01267, United States of America, (42.71830355, -73.20116290178919, 0.0))],\n",
       " [Location(Washington and Lee University, Boneyard Road, Rockbridge County, Virginia, 24450, United States of America, (37.7929993, -79.44773490479687, 0.0))],\n",
       " [Location(Georgia Institute of Technology, 9th Street Northwest, Bellwood, Vine City, Atlanta, Fulton County, Georgia, 30318, United States of America, (33.776033, -84.39884086001581, 0.0))],\n",
       " [Location(Wellesley College, Weston Road, Wellesley Fells, Wellesley, Norfolk County, Massachusetts, 02482, United States of America, (42.291776049999996, -71.3032751636105, 0.0))],\n",
       " [Location(500, College Avenue, Swarthmore, Delaware County, Pennsylvania, 19081, United States of America, (39.903550100000004, -75.35409205575698, 0.0)),\n",
       "  Location(4, South Chester Road, Swarthmore, Delaware County, Pennsylvania, 19081, United States of America, (39.9017953, -75.351171, 0.0))],\n",
       " [Location(University of California, Berkeley, De La Veaga Trail, Orinda, Contra Costa County, California, 94563, United States of America, (37.8753497, -122.23963364918777, 0.0)),\n",
       "  Location(Berkeley Art Museum - Pacific Film Archive, Center Street, Downtown Berkeley, Berkeley, Alameda County, California, 94704, United States of America, (37.87094645, -122.26639872292523, 0.0)),\n",
       "  Location(Magnes Collection of Jewish Art and Life, Allston Way, Downtown Berkeley, Berkeley, Alameda County, California, 93710, United States of America, (37.8697577, -122.26688013658828, 0.0))],\n",
       " [Location(Wake Forest University, Wake Forest Road, Reynolda Village, Winston-Salem, Forsyth County, North Carolina, 27106, United States of America, (36.134335, -80.2781152, 0.0)),\n",
       "  Location(Wake Forest University, Wake Forest Road, Oak Crest, Winston-Salem, Forsyth County, North Carolina, 27109, United States of America, (36.13389295, -80.27555779127688, 0.0))],\n",
       " [Location(University of North Carolina, Old Fraternity Row, Baby Hollow, Chapel Hill, Orange County, North Carolina, 27599-3175, United States of America, (35.90503535, -79.04775326525107, 0.0)),\n",
       "  Location(University of North Carolina at Chapel Hill, South Road, Baby Hollow, Chapel Hill, Orange County, North Carolina, 27514, United States of America, (35.9097801, -79.0478583, 0.0))],\n",
       " [Location(Northeastern University, Speare Place, Roxbury Crossing, South End, Boston, Suffolk County, Massachusetts, United States of America, (42.3390301, -71.08791294953176, 0.0)),\n",
       "  Location(Northeastern University, Huntington Avenue, Nubian Square, South End, Boston, Suffolk County, Massachusetts, 02199, United States of America, (42.33510525, -71.08925787470238, 0.0)),\n",
       "  Location(Northeastern University Visitor Center, Leon Street, Roxbury Crossing, Roxbury, Boston, Suffolk County, Massachusetts, 02120, United States of America, (42.3373345, -71.0916395, 0.0)),\n",
       "  Location(Northeastern University, Terry Avenue North, South Lake Union, Belltown, Seattle, King County, Washington, 98109, United States of America, (47.6230201, -122.3373546, 0.0)),\n",
       "  Location(ISEC Pedestrian Bridge, Roxbury Crossing, South End, Boston, Suffolk County, Massachusetts, 02120, United States of America, (42.3376892, -71.0880218, 0.0)),\n",
       "  Location(the Market, Huntington Avenue, Roxbury Crossing, South End, Boston, Suffolk County, Massachusetts, 02199, United States of America, (42.3392406, -71.0877357, 0.0))],\n",
       " [Location(Davidson College, Delburg Street, Davidson, Mecklenburg County, North Carolina, 22117, United States of America, (35.5032193, -80.83393027613258, 0.0))],\n",
       " [Location(New York University, West 4th Street, Washington Square Village, Manhattan, New York, New York County, New York, 10014, United States of America, (40.72925325, -73.99625393609625, 0.0))],\n",
       " [Location(Bates College, Mt. David Trail, Lewiston, Androscoggin County, Maine, 04240, United States of America, (44.1060827, -70.20232303437507, 0.0)),\n",
       "  Location(Bates College, Lewiston, Androscoggin County, Maine, United States of America, (44.1051308, -70.2005723674043, 0.0)),\n",
       "  Location(Bates College, College Street, Lewiston, Androscoggin County, Maine, 04240, United States of America, (44.1084861, -70.2042658, 0.0))],\n",
       " [Location(Boston College, Commonwealth Avenue, Chestnut Hill, Newton, Middlesex County, Massachusetts, 02467, United States of America, (42.3354481, -71.16813864023061, 0.0)),\n",
       "  Location(Boston College, Commonwealth Avenue, Chestnut Hill, Newton, Middlesex County, Massachusetts, 02435, United States of America, (42.3401702, -71.167045, 0.0))],\n",
       " [Location(Claremont McKenna College, East 9th Street, Claremont, Los Angeles County, California, 91711:91786, United States of America, (34.1023497, -117.7067162, 0.0)),\n",
       "  Location(Claremont McKenna College, East 9th Street, Claremont, Los Angeles County, California, 91711:91786, United States of America, (34.10068655, -117.70394618320302, 0.0))],\n",
       " [Location(Harvey Mudd College, Platt Boulevard, Claremont, Los Angeles County, California, 91711, United States of America, (34.10599325, -117.70870925266648, 0.0))],\n",
       " [Location(1, San Jacinto Boulevard, Austin, Travis County, Texas, 78712, United States of America, (30.284151, -97.73195598080218, 0.0)),\n",
       "  Location(2152, San Jacinto Boulevard, Austin, Travis County, Texas, 78712, United States of America, (30.284458, -97.7342106, 0.0))],\n",
       " [Location(Colby College, Waterville, Kennebec County, Maine, 04901-5630, United States of America, (44.5670242, -69.6655086, 0.0)),\n",
       "  Location(4000, Mayflower Hill Drive, Waterville, Kennebec County, Maine, 04901, United States of America, (44.564148200000005, -69.66244618005328, 0.0)),\n",
       "  Location(24, Washington Street, Waterville, Kennebec County, Maine, 04963, United States of America, (44.5554954, -69.6734001, 0.0)),\n",
       "  Location(12, Washington Street, Waterville, Kennebec County, Maine, 04963, United States of America, (44.5577549, -69.6718964, 0.0))],\n",
       " [Location(Hamilton College, College Hill Road, Kirkland, Town of Kirkland, Oneida County, New York, 13323, United States of America, (43.0537974, -75.40689907682119, 0.0)),\n",
       "  Location(Hamilton College, Pendleton Street, Waverly, Columbia, Richland County, South Carolina, 29201:29205, United States of America, (33.999973749999995, -81.02616555941444, 0.0)),\n",
       "  Location(Hamilton College, 1st Street Northwest, Registry Park, Mason City, Cerro Gordo County, Iowa, 50401, United States of America, (43.1523089, -93.2033175, 0.0)),\n",
       "  Location(Hamilton College, Kelly Drive, Stony Brook, Suffolk County, New York, 11794, United States of America, (40.9137523, -73.13048442274987, 0.0)),\n",
       "  Location(Hamilton College, College Hill Road, Kirkland, Town of Kirkland, Oneida County, New York, 13323, United States of America, (43.0491525, -75.4088294, 0.0)),\n",
       "  Location(The Wellin Museum of Art, College Hill Road, Kirkland, Town of Kirkland, Oneida County, New York, 13323, United States of America, (43.0511417, -75.40958309513795, 0.0))],\n",
       " [Location(Wesleyan University, Cross Street, Newfield Heights, Middletown, Middlesex County, Connecticut, 06457, United States of America, (41.5559033, -72.65598837715102, 0.0))],\n",
       " [Location(Lehigh University, Library Drive, Sayre Park, Bethlehem, Northampton County, Pennsylvania, 18015, United States of America, (40.6068028, -75.3782488, 0.0))],\n",
       " [Location(College of William and Mary, Bright Street, Walnut Hills, Williamsburg, Virginia, 23186, United States of America, (37.2698853, -76.71525592671914, 0.0))],\n",
       " [Location(Colgate University, Campus Footpaths, Hamilton, Town of Hamilton, Madison County, New York, 13346, United States of America, (42.815403700000005, -75.53958155911818, 0.0)),\n",
       "  Location(Colgate University, Hamilton, Town of Hamilton, Madison County, New York, 13346, United States of America, (42.821071, -75.536975, 0.0)),\n",
       "  Location(Colgate University, Hamilton, Town of Hamilton, Madison County, New York, United States of America, (42.81332005, -75.53772882479016, 0.0)),\n",
       "  Location(Colgate University, Hamilton, Town of Hamilton, Madison County, New York, 13346, United States of America, (42.812228, -75.535602, 0.0)),\n",
       "  Location(Colgate Inn, Payne Street, Hamilton, Town of Hamilton, Madison County, New York, 13346, United States of America, (42.827430199999995, -75.54413355675345, 0.0))],\n",
       " [Location(Virginia Polytechnic Institute and State University, Toms Creek Road, Longview Estates, McBryde Village, Blacksburg, Montgomery County, Virginia, 24060-3348, United States of America, (37.21872455, -80.42542518694935, 0.0)),\n",
       "  Location(Virginia Tech, Prince Street, Lyles-Crouch, Rosemont, Alexandria, Virginia, 22314, United States of America, (38.8047606, -77.05135745899457, 0.0)),\n",
       "  Location(The Inn at Virginia Tech, Prices Fork Road, Longview Estates, McBryde Village, Blacksburg, Montgomery County, Virginia, 24061, United States of America, (37.2297868, -80.43079999283316, 0.0)),\n",
       "  Location(Virginia Tech, Kent Street, Longview Estates, Keister Addition, Blacksburg, Montgomery County, Virginia, 24061-9517, United States of America, (37.2267454, -80.4176817, 0.0)),\n",
       "  Location(Virginia Tech, Ag Quad Lane, Longview Estates, Southgate, Blacksburg, Montgomery County, Virginia, 24061-9517, United States of America, (37.2248613, -80.4209183, 0.0)),\n",
       "  Location(Perspective Gallery, Library Plaza, Longview Estates, Keister Addition, Blacksburg, Montgomery County, Virginia, 24060-7401, United States of America, (37.2297439, -80.4177674, 0.0))],\n",
       " [Location(University of Florida, Memorial Road, Daysville, Gainesville, Alachua County, Florida, 32611, United States of America, (29.6328784, -82.34901330482433, 0.0)),\n",
       "  Location(Florida Museum of Natural History, Hull Road, Daysville, City of Gainesville Municipal Boundaries, Alachua County, Florida, 32611, United States of America, (29.635923, -82.37037451054687, 0.0)),\n",
       "  Location(Samuel P. Harn Museum of Art, Hull Road, Daysville, City of Gainesville Municipal Boundaries, Alachua County, Florida, 32611, United States of America, (29.636927, -82.37021349645454, 0.0))],\n",
       " [Location(Boston University, Ipswich Street, Audubon Square, Back Bay, Boston, Suffolk County, Massachusetts, 02115, United States of America, (42.350500350000004, -71.10255990490174, 0.0)),\n",
       "  Location(Boston University, Commonwealth Avenue, Audubon Square, Allston, Boston, Suffolk County, Massachusetts, 02215, United States of America, (42.3520969, -71.12007532463585, 0.0)),\n",
       "  Location(Boston University, Babcock Street, Allston, Boston, Suffolk County, Massachusetts, 02446, United States of America, (42.352261150000004, -71.12140095000001, 0.0)),\n",
       "  Location(100 Baystate Road, Bay State Road, Audubon Square, Back Bay, Boston, Suffolk County, Massachusetts, 02215, United States of America, (42.3499432, -71.0978503, 0.0))],\n",
       " [Location(University of Richmond, Westhampton Way, River Road Hills, Tuckahoe, Richmond City, Virginia, 23173, United States of America, (37.57586225, -77.54129937158409, 0.0))],\n",
       " [Location(Smith College, South Street, Bay State, Northampton, Hampshire County, Massachusetts, 01060, United States of America, (42.31622385, -72.64039314741159, 0.0)),\n",
       "  Location(Smith College, Elm Street, Bay State, Northampton, Hampshire County, Massachusetts, 01063, United States of America, (42.3196141, -72.6375832, 0.0))],\n",
       " [Location(University of Wisconsin-Madison, Bowdoin Road, College Hills, Shorewood Hills, Dane County, Wisconsin, 53705, United States of America, (43.07982815, -89.43066425429006, 0.0)),\n",
       "  Location(UW Geology Museum, West Dayton Street, South Campus, Madison, Dane County, Wisconsin, 53715, United States of America, (43.0705257, -89.4059387, 0.0)),\n",
       "  Location(L.R. Ingersoll Physics Museum, University Avenue, South Campus, Madison, Dane County, Wisconsin, 53706, United States of America, (43.0736469, -89.4054156, 0.0)),\n",
       "  Location(University of Wisconsin Space Place, South Park Street, Bowens Addition, Madison, Dane County, Wisconsin, 53713, United States of America, (43.0407879, -89.3953702, 0.0)),\n",
       "  Location(Flamingo Run, Elm Drive, Oakland Heights, Bowens Addition, Madison, Dane County, Wisconsin, 53706, United States of America, (43.0776853, -89.4176223, 0.0)),\n",
       "  Location(Four Lakes Market, Elm Drive, Oakland Heights, Bowens Addition, Madison, Dane County, Wisconsin, 53706, United States of America, (43.0779167, -89.4178509, 0.0)),\n",
       "  Location(Upham Woods Outdoor Learning Center, County Highway N, Plainville, Town of Lyndon, Juneau County, Wisconsin, 53965, United States of America, (43.64969265, -89.7942184844429, 0.0))],\n",
       " [Location(500, Peabody Drive, Champaign, Champaign County, Illinois, 61820, United States of America, (40.101976, -88.2314378, 0.0)),\n",
       "  Location(University of Illinois at Urbana-Champaign, North Wright Street, Urbana, Champaign County, Illinois, 61820, United States of America, (40.106650099999996, -88.22402607254264, 0.0)),\n",
       "  Location(University of Illinois at Urbana-Champaign, North Coler Avenue, Downtown Urbana, Urbana, Champaign County, Illinois, 61801, United States of America, (40.10053035, -88.23131507323531, 0.0))],\n",
       " [Location(Vassar College, Carriage Hill Lane, Arlington, Town of Poughkeepsie, Dutchess County, New York, 12603, United States of America, (41.686257850000004, -73.89355075020433, 0.0)),\n",
       "  Location(Vassar College, Raymond Avenue, Arlington, Town of Poughkeepsie, Dutchess County, New York, 12604, United States of America, (41.686786, -73.8956971, 0.0))],\n",
       " [Location(University of Georgia, College Station Road, Habersham Hills, Whitehall, Athens-Clarke County Unified Government, Athens-Clarke County, Georgia, 30605, United States of America, (33.9404278, -83.37304904988295, 0.0)),\n",
       "  Location(University of Georgia, Sanford Drive, Stonemill Run, Spring Valley Estates, Athens-Clarke County Unified Government, Athens-Clarke County, Georgia, 303341458, United States of America, (33.9512108, -83.3737414, 0.0)),\n",
       "  Location(University of Georgia, Mary Street, Garlington Heights Housing Project, Waycross, Ware County, Georgia, 31503, United States of America, (31.2104953, -82.3665186, 0.0)),\n",
       "  Location(Georgia Center for Continuing Education, South Lumpkin Street, Five Points, Spring Valley Estates, Athens-Clarke County Unified Government, Athens-Clarke County, Georgia, 30606, United States of America, (33.9445954, -83.37737742312423, 0.0))],\n",
       " [Location(Colorado College, East Cache la Poudre Street, Knob Hill, Colorado Springs, El Paso County, Colorado, 80903, United States of America, (38.8480439, -104.8239509314005, 0.0)),\n",
       "  Location(Colorado Springs Fine Arts Center, West Dale Street, Roswell, Colorado Springs, El Paso County, Colorado, 80903, United States of America, (38.845792, -104.82637778704249, 0.0)),\n",
       "  Location(Colorado College, East Cache la Poudre Street, Roswell, Colorado Springs, El Paso County, Colorado, 80903, United States of America, (38.851918049999995, -104.82730131292266, 0.0)),\n",
       "  Location(Langer Sundial, East Cache la Poudre Street, Roswell, Colorado Springs, El Paso County, Colorado, 80903, United States of America, (38.849848, -104.822716, 0.0)),\n",
       "  Location(Paul Best Victory Bell, East Cache la Poudre Street, Roswell, Colorado Springs, El Paso County, Colorado, 80903, United States of America, (38.8487676, -104.8275474, 0.0)),\n",
       "  Location(Spencer Center, North Tejon Street, Lowell Neighborhood, Roswell, Colorado Springs, El Paso County, Colorado, 80903, United States of America, (38.8462532, -104.82315645922235, 0.0)),\n",
       "  Location(Preserve, North Cascade Avenue, Roswell, Colorado Springs, El Paso County, Colorado, 80903, United States of America, (38.8492272, -104.8267719, 0.0)),\n",
       "  Location(Nelson-Griswold \"66\" Service Station, North Nevada Avenue, Lowell Neighborhood, Roswell, Colorado Springs, El Paso County, Colorado, 80903, United States of America, (38.8454208, -104.82058088281903, 0.0))],\n",
       " [Location(The Cooper Union, Astor Place, East Village, Manhattan, Manhattan Community Board 3, New York County, New York, 10003, United States of America, (40.7295282, -73.9905606, 0.0))],\n",
       " [Location(Grinnell College, 8th Avenue, Willows Mobile Home Court, Grinnell, Poweshiek County, Iowa, 50112, United States of America, (41.75111985, -92.71984863278584, 0.0))],\n",
       " [Location(Bucknell Drive, University Hills, Sprinkle Corner, Austin, Travis County, Texas, 78723, United States of America, (30.3219804, -97.6733752, 0.0)),\n",
       "  Location(Bucknell Street, University Oaks, San Antonio, Bexar County, Texas, 78230, United States of America, (29.571095, -98.581544, 0.0)),\n",
       "  Location(Bucknell Avenue, University Gardens, Big Spring, Howard County, Texas, 79720, United States of America, (32.2579399, -101.4474074, 0.0)),\n",
       "  Location(University Drive, Bucknell Heights, Groveton, Fairfax County, Virginia, 22307, United States of America, (38.766652, -77.075045, 0.0)),\n",
       "  Location(Bucknell President's House, University Avenue, Lewisburg, Union County, Pennsylvania, 17837, United States of America, (40.958872799999995, -76.88192481391476, 0.0)),\n",
       "  Location(Alumni House-Bucknell University, University Avenue, Lewisburg, Union County, Pennsylvania, 17837, United States of America, (40.9588889, -76.8816667, 0.0))],\n",
       " [Location(Bryn Mawr College, Montgomery Avenue, Haverford, Lower Merion Township, Montgomery County, Pennsylvania, 19010, United States of America, (40.02813555, -75.31592058518157, 0.0))],\n",
       " [Location(Kenyon College, Wiggins Street, Gambier, College Township, Knox County, Ohio, 43022, United States of America, (40.37264735, -82.39428986783508, 0.0))],\n",
       " [Location(Rensselaer Polytechnic Institute, 8th Street, Downtown, Frear Park, Troy, Rensselaer County, New York, 12180, United States of America, (42.729921950000005, -73.67953982458829, 0.0)),\n",
       "  Location(Rensselaer Polytechnic Institute, Eldridge Court, Frear Park, City of Troy, Rensselaer County, New York, 12180, United States of America, (42.73280325, -73.6622354488153, 0.0)),\n",
       "  Location(Rensselaer Polytechnic Institute, 17th Street, Downtown, Frear Park, City of Troy, Rensselaer County, New York, 12180, United States of America, (42.7357483, -73.67296098476673, 0.0))],\n",
       " [Location(University of Miami, Southwest 57th Avenue, Florida Pioneer Village, Coral Gables, Miami-Dade County, Florida, 33124, United States of America, (25.7172788, -80.27869157646253, 0.0)),\n",
       "  Location(University of Miami, Madruga Avenue, Florida Pioneer Village, Coral Gables, Miami-Dade County, Florida, 33124-6310, United States of America, (25.713398499999997, -80.27732389665681, 0.0)),\n",
       "  Location(University of Miami, Southwest 130th Avenue, Three Lakes, Miami-Dade County, Florida, 33177, United States of America, (25.6234386, -80.404499, 0.0))],\n",
       " [Location(University of California, Santa Barbara, Santa Barbara County, California, 93106, United States of America, (34.4145937, -119.84581949868962, 0.0)),\n",
       "  Location(Art, Design & Architecture Museum, Storke Plaza, Isla Vista, Santa Barbara County, California, United States of America, (34.411944500000004, -119.84908276482224, 0.0))],\n",
       " [Location(Memorial Art Gallery, University Avenue, East End, Cobbs Hill, Rochester, Monroe County, New York, 14607, United States of America, (43.1576969, -77.58829157560066, 0.0)),\n",
       "  Location(University of Rochester, Upper Mount Hope, Crittenden, Rochester, Monroe County, New York, 14627, United States of America, (43.1226985, -77.6307297, 0.0)),\n",
       "  Location(Danforth Dining Center, Towers Road, Strong, Arnett, Rochester, Monroe County, New York, 14642, United States of America, (43.1302114, -77.62642594716263, 0.0))],\n",
       " [Location(6425, Airline Road, University Park, Dallas County, Texas, 75205, United States of America, (32.841801149999995, -96.78152810147064, 0.0))],\n",
       " [Location(Brigham Young University, Apple Avenue, Wasatch, Village at South Campus, Provo, Utah County, Utah, 84606, United States of America, (40.25501105, -111.64965660160263, 0.0)),\n",
       "  Location(BYU Museum of Art, East North Campus Drive, Moon Apartments, Provo, Utah County, Utah, 84604, United States of America, (40.2507298, -111.64794417701245, 0.0)),\n",
       "  Location(BYU Museum of Paleontology, North Canyon Road, Pleasant View, Provo, Utah County, Utah, 84602, United States of America, (40.25651255, -111.65704105119511, 0.0)),\n",
       "  Location(BYU Museum of Peoples and Cultures, East 2230 North, Pleasant View, Provo, Utah County, Utah, 84602, United States of America, (40.2630831, -111.6575908, 0.0))],\n",
       " [Location(Case Western Reserve University, Euclid Avenue, Newton Avenue Historic District, University Circle, Cleveland, Cuyahoga County, Ohio, 44106, United States of America, (41.50138695, -81.60070216159022, 0.0))]]"
      ]
     },
     "execution_count": 124,
     "metadata": {},
     "output_type": "execute_result"
    }
   ],
   "source": [
    "filtered_locations"
   ]
  },
  {
   "cell_type": "code",
   "execution_count": 125,
   "metadata": {},
   "outputs": [
    {
     "data": {
      "text/plain": [
       "78"
      ]
     },
     "execution_count": 125,
     "metadata": {},
     "output_type": "execute_result"
    }
   ],
   "source": [
    "len(filtered_locations)"
   ]
  },
  {
   "cell_type": "code",
   "execution_count": 126,
   "metadata": {},
   "outputs": [
    {
     "data": {
      "text/plain": [
       "78"
      ]
     },
     "execution_count": 126,
     "metadata": {},
     "output_type": "execute_result"
    }
   ],
   "source": [
    "len(locations)"
   ]
  },
  {
   "cell_type": "code",
   "execution_count": 129,
   "metadata": {},
   "outputs": [],
   "source": [
    "test_list = locations[1]"
   ]
  },
  {
   "cell_type": "code",
   "execution_count": 130,
   "metadata": {},
   "outputs": [
    {
     "data": {
      "text/plain": [
       "[Location(Stanford University, Addison Avenue, University South, Palo Alto, Santa Clara County, California, 94301, United States of America, (37.431313849999995, -122.16936535498309, 0.0)),\n",
       " Location(314, Lomita Drive, Stanford, Santa Clara County, California, 94305-6015, United States of America, (37.43375535, -122.17079270156404, 0.0)),\n",
       " Location(295, Galvez Street, Stanford, Santa Clara County, California, 94305-6015, United States of America, (37.4316091, -122.1636112, 0.0))]"
      ]
     },
     "execution_count": 130,
     "metadata": {},
     "output_type": "execute_result"
    }
   ],
   "source": [
    "test_list"
   ]
  },
  {
   "cell_type": "code",
   "execution_count": 138,
   "metadata": {},
   "outputs": [],
   "source": [
    "from statistics import mean\n",
    "from statistics import median"
   ]
  },
  {
   "cell_type": "code",
   "execution_count": 152,
   "metadata": {},
   "outputs": [],
   "source": [
    "mean_latitudes = list(map(lambda university_locs: mean(map(lambda x: x.latitude, university_locs)), filtered_locations))"
   ]
  },
  {
   "cell_type": "code",
   "execution_count": 153,
   "metadata": {},
   "outputs": [],
   "source": [
    "\n",
    "median_latitudes = list(map(lambda university_locs: median(map(lambda x: x.latitude, university_locs)), filtered_locations))"
   ]
  },
  {
   "cell_type": "code",
   "execution_count": 154,
   "metadata": {},
   "outputs": [
    {
     "data": {
      "text/plain": [
       "[((0, 42.3583961), 42.3583961),\n",
       " ((1, 37.4322261), 37.4316091),\n",
       " ((2, 41.30664305), 41.3124042),\n",
       " ((3, 42.373954842857145), 42.37626005),\n",
       " ((4, 40.342835074999996), 40.342835074999996),\n",
       " ((5, 35.999603949999994), 35.999603949999994),\n",
       " ((6, 41.826853625), 41.826853625),\n",
       " ((7, 40.81354028333333), 40.814856000000006),\n",
       " ((8, 39.948194425000004), 39.9492849),\n",
       " ((9, 29.716791450000002), 29.716791450000002),\n",
       " ((10, 42.0551164), 42.0551164),\n",
       " ((11, 37.708753525), 37.708753525),\n",
       " ((12, 34.096326774999994), 34.096326774999994),\n",
       " ((13, 38.64959185), 38.6502018),\n",
       " ((14, 43.7009399375), 43.701971925),\n",
       " ((15, 34.13710185), 34.13710185),\n",
       " ((16, 41.704567749999995), 41.704567749999995),\n",
       " ((17, 41.7885243), 41.7892454),\n",
       " ((18, 34.02024625), 34.02024625),\n",
       " ((19, 42.45063639999999), 42.45063639999999),\n",
       " ((20, 43.90825), 43.90825),\n",
       " ((21, 42.3712289125), 42.371195325),\n",
       " ((22, 42.284760999999996), 42.2788567),\n",
       " ((23, 38.90893925), 38.90893925),\n",
       " ((24, 42.40629165), 42.40629165),\n",
       " ((25, 34.0708781), 34.0708781),\n",
       " ((26, 39.197467089999996), 39.1033748),\n",
       " ((27, 40.4441619), 40.4441619),\n",
       " ((28, 38.03971165), 38.03971165),\n",
       " ((29, 33.79655785714286), 33.795867650000005),\n",
       " ((30, 40.0071506), 40.0071506),\n",
       " ((31, 44.47183535), 44.47183535),\n",
       " ((32, 44.00397079), 44.00366955),\n",
       " ((33, 40.80970505), 40.80970505),\n",
       " ((34, 42.7101772375), 42.709741525),\n",
       " ((35, 37.7929993), 37.7929993),\n",
       " ((36, 33.776033), 33.776033),\n",
       " ((37, 42.291776049999996), 42.291776049999996),\n",
       " ((38, 39.902672700000004), 39.902672700000004),\n",
       " ((39, 37.87201795), 37.87094645),\n",
       " ((40, 36.134113975000005), 36.134113975000005),\n",
       " ((41, 35.907407725), 35.907407725),\n",
       " ((42, 43.21856995833333), 42.33835965),\n",
       " ((43, 35.5032193), 35.5032193),\n",
       " ((44, 40.72925325), 40.72925325),\n",
       " ((45, 44.106566533333336), 44.1060827),\n",
       " ((46, 42.33780915), 42.33780915),\n",
       " ((47, 34.101518125), 34.101518125),\n",
       " ((48, 34.10599325), 34.10599325),\n",
       " ((49, 30.2843045), 30.2843045),\n",
       " ((50, 44.561105675), 44.56095155),\n",
       " ((51, 41.203354425), 43.050147100000004),\n",
       " ((52, 41.5559033), 41.5559033),\n",
       " ((53, 40.6068028), 40.6068028),\n",
       " ((54, 37.2698853), 37.2698853),\n",
       " ((55, 42.81789059), 42.815403700000005),\n",
       " ((56, 37.489103758333336), 37.22824465),\n",
       " ((57, 29.6352428), 29.635923),\n",
       " ((58, 42.3512004), 42.351298625),\n",
       " ((59, 37.57586225), 37.57586225),\n",
       " ((60, 42.317918975), 42.317918975),\n",
       " ((61, 43.15286904285714), 43.0776853),\n",
       " ((62, 40.103052149999996), 40.101976),\n",
       " ((63, 41.686521925), 41.686521925),\n",
       " ((64, 33.261682325), 33.9425116),\n",
       " ((65, 38.84815884375), 38.84840575),\n",
       " ((66, 40.7295282), 40.7295282),\n",
       " ((67, 41.75111985), 41.75111985),\n",
       " ((68, 35.4725715), 35.512295949999995),\n",
       " ((69, 40.02813555), 40.02813555),\n",
       " ((70, 40.37264735), 40.37264735),\n",
       " ((71, 42.7328245), 42.73280325),\n",
       " ((72, 25.684705299999997), 25.713398499999997),\n",
       " ((73, 34.4132691), 34.4132691),\n",
       " ((74, 43.13686893333333), 43.1302114),\n",
       " ((75, 32.841801149999995), 32.841801149999995),\n",
       " ((76, 40.256334125), 40.2557618),\n",
       " ((77, 41.50138695), 41.50138695)]"
      ]
     },
     "execution_count": 154,
     "metadata": {},
     "output_type": "execute_result"
    }
   ],
   "source": [
    "list(zip(enumerate(mean_latitudes), median_latitudes))"
   ]
  },
  {
   "cell_type": "code",
   "execution_count": 145,
   "metadata": {},
   "outputs": [],
   "source": [
    "q_indices = [16, 26, 27, 46, 51, 64]"
   ]
  },
  {
   "cell_type": "code",
   "execution_count": 155,
   "metadata": {},
   "outputs": [
    {
     "data": {
      "text/plain": [
       "[Location(University of Georgia, College Station Road, Habersham Hills, Whitehall, Athens-Clarke County Unified Government, Athens-Clarke County, Georgia, 30605, United States of America, (33.9404278, -83.37304904988295, 0.0)),\n",
       " Location(University of Georgia, Sanford Drive, Stonemill Run, Spring Valley Estates, Athens-Clarke County Unified Government, Athens-Clarke County, Georgia, 303341458, United States of America, (33.9512108, -83.3737414, 0.0)),\n",
       " Location(University of Georgia, Mary Street, Garlington Heights Housing Project, Waycross, Ware County, Georgia, 31503, United States of America, (31.2104953, -82.3665186, 0.0)),\n",
       " Location(Georgia Center for Continuing Education, South Lumpkin Street, Five Points, Spring Valley Estates, Athens-Clarke County Unified Government, Athens-Clarke County, Georgia, 30606, United States of America, (33.9445954, -83.37737742312423, 0.0))]"
      ]
     },
     "execution_count": 155,
     "metadata": {},
     "output_type": "execute_result"
    }
   ],
   "source": [
    "filtered_locations[64]"
   ]
  },
  {
   "cell_type": "code",
   "execution_count": 156,
   "metadata": {},
   "outputs": [],
   "source": [
    "\n",
    "mean_longitudes = list(map(lambda university_locs: mean(map(lambda x: x.longitude, university_locs)), filtered_locations))\n",
    "median_longitudes = list(map(lambda university_locs: median(map(lambda x: x.longitude, university_locs)), filtered_locations))"
   ]
  },
  {
   "cell_type": "code",
   "execution_count": 159,
   "metadata": {},
   "outputs": [
    {
     "data": {
      "text/plain": [
       "[(0, (-71.09567787663931, -71.09567787663931)),\n",
       " (1, (-122.16792308551571, -122.16936535498309)),\n",
       " (2, (-72.91721800794545, -72.92566039270301)),\n",
       " (3, (-71.12195446651346, -71.12612232686303)),\n",
       " (4, (-74.65800016680154, -74.65800016680154)),\n",
       " (5, (-78.93664631153634, -78.93664631153634)),\n",
       " (6, (-71.40228830348407, -71.40228830348407)),\n",
       " (7, (-73.96024663803105, -73.96101623650988)),\n",
       " (8, (-75.19375679351973, -75.19291418251626)),\n",
       " (9, (-95.40478113393792, -95.40478113393792)),\n",
       " (10, (-87.67581113482166, -87.67581113482166)),\n",
       " (11, (-85.54703394547647, -85.54703394547647)),\n",
       " (12, (-117.71319861205757, -117.71319861205757)),\n",
       " (13, (-90.31122751079863, -90.3114481)),\n",
       " (14, (-72.29249862150732, -72.28965318682857)),\n",
       " (15, (-118.1252748661162, -118.1252748661162)),\n",
       " (16, (-86.23822026017265, -86.23822026017265)),\n",
       " (17, (-87.59636148084914, -87.59771803592608)),\n",
       " (18, (-118.28660743457544, -118.28660743457544)),\n",
       " (19, (-76.48227781130683, -76.48227781130683)),\n",
       " (20, (-69.9616745820036, -69.9616745820036)),\n",
       " (21, (-72.51397128427055, -72.51510404562048)),\n",
       " (22, (-83.72447901454208, -83.7342551)),\n",
       " (23, (-77.07457962060826, -77.07457962060826)),\n",
       " (24, (-71.11819855889479, -71.11819855889479)),\n",
       " (25, (-118.44684973165106, -118.44684973165106)),\n",
       " (26, (-76.96768059970647, -77.19807592179512)),\n",
       " (27, (-79.942728259225, -79.942728259225)),\n",
       " (28, (-78.50424855091785, -78.50424855091785)),\n",
       " (29, (-84.3221125600123, -84.3201858947244)),\n",
       " (30, (-75.30694232576307, -75.30694232576307)),\n",
       " (31, (-93.14145805901515, -93.14145805901515)),\n",
       " (32, (-73.17805647792864, -73.1773487)),\n",
       " (33, (-73.96338868739625, -73.96338868739625)),\n",
       " (34, (-73.23956152476413, -73.23983628229884)),\n",
       " (35, (-79.44773490479687, -79.44773490479687)),\n",
       " (36, (-84.39884086001581, -84.39884086001581)),\n",
       " (37, (-71.3032751636105, -71.3032751636105)),\n",
       " (38, (-75.35263152787849, -75.35263152787849)),\n",
       " (39, (-122.25763750290042, -122.26639872292523)),\n",
       " (40, (-80.27683649563843, -80.27683649563843)),\n",
       " (41, (-79.04780578262555, -79.04780578262555)),\n",
       " (42, (-79.63032040403903, -71.0886398373512)),\n",
       " (43, (-80.83393027613258, -80.83393027613258)),\n",
       " (44, (-73.99625393609625, -73.99625393609625)),\n",
       " (45, (-70.20238706725979, -70.20232303437507)),\n",
       " (46, (-71.1675918201153, -71.1675918201153)),\n",
       " (47, (-117.70533119160152, -117.70533119160152)),\n",
       " (48, (-117.70870925266648, -117.70870925266648)),\n",
       " (49, (-97.73308329040108, -97.73308329040108)),\n",
       " (50, (-69.66831282001331, -69.6687025)),\n",
       " (51, (-78.9308798423539, -75.40920624756897)),\n",
       " (52, (-72.65598837715102, -72.65598837715102)),\n",
       " (53, (-75.3782488, -75.3782488)),\n",
       " (54, (-76.71525592671914, -76.71525592671914)),\n",
       " (55, (-75.53880418813236, -75.53772882479016)),\n",
       " (56, (-79.86065833979617, -80.41934284999999)),\n",
       " (57, (-82.36320043727524, -82.37021349645454)),\n",
       " (58, (-71.11047161988441, -71.1113176147688)),\n",
       " (59, (-77.54129937158409, -77.54129937158409)),\n",
       " (60, (-72.6389881737058, -72.6389881737058)),\n",
       " (61, (-89.46672577696185, -89.4176223)),\n",
       " (62, (-88.22892631525932, -88.23131507323531)),\n",
       " (63, (-73.89462392510217, -73.89462392510217)),\n",
       " (64, (-83.1226716182518, -83.37339522494148)),\n",
       " (65, (-104.82480033417588, -104.8251643592215)),\n",
       " (66, (-73.9905606, -73.9905606)),\n",
       " (67, (-92.71984863278584, -92.71984863278584)),\n",
       " (68, (-88.0901605189858, -87.3742101)),\n",
       " (69, (-75.31592058518157, -75.31592058518157)),\n",
       " (70, (-82.39428986783508, -82.39428986783508)),\n",
       " (71, (-73.67157875272343, -73.67296098476673)),\n",
       " (72, (-80.32017149103979, -80.27869157646253)),\n",
       " (73, (-119.84745113175593, -119.84745113175593)),\n",
       " (74, (-77.61514907425443, -77.62642594716263)),\n",
       " (75, (-96.78152810147064, -96.78152810147064)),\n",
       " (76, (-111.65305815745255, -111.65334882639887)),\n",
       " (77, (-81.60070216159022, -81.60070216159022))]"
      ]
     },
     "execution_count": 159,
     "metadata": {},
     "output_type": "execute_result"
    }
   ],
   "source": [
    "list(enumerate(list(zip(mean_longitudes, median_longitudes))))"
   ]
  },
  {
   "cell_type": "code",
   "execution_count": 160,
   "metadata": {},
   "outputs": [],
   "source": [
    "q2_indices = [42,51,56]"
   ]
  },
  {
   "cell_type": "code",
   "execution_count": 163,
   "metadata": {},
   "outputs": [
    {
     "data": {
      "text/plain": [
       "[Location(Virginia Polytechnic Institute and State University, Toms Creek Road, Longview Estates, McBryde Village, Blacksburg, Montgomery County, Virginia, 24060-3348, United States of America, (37.21872455, -80.42542518694935, 0.0)),\n",
       " Location(Virginia Tech, Prince Street, Lyles-Crouch, Rosemont, Alexandria, Virginia, 22314, United States of America, (38.8047606, -77.05135745899457, 0.0)),\n",
       " Location(The Inn at Virginia Tech, Prices Fork Road, Longview Estates, McBryde Village, Blacksburg, Montgomery County, Virginia, 24061, United States of America, (37.2297868, -80.43079999283316, 0.0)),\n",
       " Location(Virginia Tech, Kent Street, Longview Estates, Keister Addition, Blacksburg, Montgomery County, Virginia, 24061-9517, United States of America, (37.2267454, -80.4176817, 0.0)),\n",
       " Location(Virginia Tech, Ag Quad Lane, Longview Estates, Southgate, Blacksburg, Montgomery County, Virginia, 24061-9517, United States of America, (37.2248613, -80.4209183, 0.0)),\n",
       " Location(Perspective Gallery, Library Plaza, Longview Estates, Keister Addition, Blacksburg, Montgomery County, Virginia, 24060-7401, United States of America, (37.2297439, -80.4177674, 0.0))]"
      ]
     },
     "execution_count": 163,
     "metadata": {},
     "output_type": "execute_result"
    }
   ],
   "source": [
    "filtered_locations[56]"
   ]
  },
  {
   "cell_type": "code",
   "execution_count": 165,
   "metadata": {},
   "outputs": [],
   "source": [
    "data['Longitude'] = median_longitudes"
   ]
  },
  {
   "cell_type": "code",
   "execution_count": 166,
   "metadata": {},
   "outputs": [],
   "source": [
    "data['Latitude'] = median_latitudes"
   ]
  },
  {
   "cell_type": "code",
   "execution_count": 167,
   "metadata": {},
   "outputs": [
    {
     "data": {
      "text/html": [
       "<div>\n",
       "<style scoped>\n",
       "    .dataframe tbody tr th:only-of-type {\n",
       "        vertical-align: middle;\n",
       "    }\n",
       "\n",
       "    .dataframe tbody tr th {\n",
       "        vertical-align: top;\n",
       "    }\n",
       "\n",
       "    .dataframe thead th {\n",
       "        text-align: right;\n",
       "    }\n",
       "</style>\n",
       "<table border=\"1\" class=\"dataframe\">\n",
       "  <thead>\n",
       "    <tr style=\"text-align: right;\">\n",
       "      <th></th>\n",
       "      <th>University</th>\n",
       "      <th>Large</th>\n",
       "      <th>Medium</th>\n",
       "      <th>Public</th>\n",
       "      <th>Liberal Arts</th>\n",
       "      <th>Small</th>\n",
       "      <th>Rank</th>\n",
       "      <th>Private</th>\n",
       "      <th>Total Cost of Attendance</th>\n",
       "      <th>Full-Time Undergrads</th>\n",
       "      <th>...</th>\n",
       "      <th>Percentage of Nonresident Aliens to All Undergrads</th>\n",
       "      <th>Policy: Need-based</th>\n",
       "      <th>Policy: Merit</th>\n",
       "      <th>Policy: No Aid</th>\n",
       "      <th>Percentage of Nonresident Aliens Receiving Aid</th>\n",
       "      <th>Average Aid Award</th>\n",
       "      <th>Average Cost with Aid</th>\n",
       "      <th>Expected Cost</th>\n",
       "      <th>Longitude</th>\n",
       "      <th>Latitude</th>\n",
       "    </tr>\n",
       "  </thead>\n",
       "  <tbody>\n",
       "    <tr>\n",
       "      <th>0</th>\n",
       "      <td>Massachusetts Institute of Technology</td>\n",
       "      <td>False</td>\n",
       "      <td>True</td>\n",
       "      <td>False</td>\n",
       "      <td>False</td>\n",
       "      <td>False</td>\n",
       "      <td>1.0</td>\n",
       "      <td>True</td>\n",
       "      <td>73160.0</td>\n",
       "      <td>73160.0</td>\n",
       "      <td>...</td>\n",
       "      <td>10.0</td>\n",
       "      <td>True</td>\n",
       "      <td>True</td>\n",
       "      <td>False</td>\n",
       "      <td>78.0</td>\n",
       "      <td>56675.0</td>\n",
       "      <td>16485.0</td>\n",
       "      <td>28887.0</td>\n",
       "      <td>-71.095678</td>\n",
       "      <td>42.358396</td>\n",
       "    </tr>\n",
       "    <tr>\n",
       "      <th>1</th>\n",
       "      <td>Stanford University</td>\n",
       "      <td>False</td>\n",
       "      <td>True</td>\n",
       "      <td>False</td>\n",
       "      <td>False</td>\n",
       "      <td>False</td>\n",
       "      <td>2.0</td>\n",
       "      <td>True</td>\n",
       "      <td>75470.0</td>\n",
       "      <td>75470.0</td>\n",
       "      <td>...</td>\n",
       "      <td>11.0</td>\n",
       "      <td>True</td>\n",
       "      <td>True</td>\n",
       "      <td>False</td>\n",
       "      <td>27.0</td>\n",
       "      <td>60250.0</td>\n",
       "      <td>15220.0</td>\n",
       "      <td>59083.0</td>\n",
       "      <td>-122.169365</td>\n",
       "      <td>37.431609</td>\n",
       "    </tr>\n",
       "    <tr>\n",
       "      <th>2</th>\n",
       "      <td>Yale University</td>\n",
       "      <td>False</td>\n",
       "      <td>True</td>\n",
       "      <td>False</td>\n",
       "      <td>False</td>\n",
       "      <td>False</td>\n",
       "      <td>3.0</td>\n",
       "      <td>True</td>\n",
       "      <td>76490.0</td>\n",
       "      <td>76490.0</td>\n",
       "      <td>...</td>\n",
       "      <td>11.0</td>\n",
       "      <td>True</td>\n",
       "      <td>True</td>\n",
       "      <td>False</td>\n",
       "      <td>57.0</td>\n",
       "      <td>62089.0</td>\n",
       "      <td>14401.0</td>\n",
       "      <td>41120.0</td>\n",
       "      <td>-72.925660</td>\n",
       "      <td>41.312404</td>\n",
       "    </tr>\n",
       "    <tr>\n",
       "      <th>3</th>\n",
       "      <td>Harvard University</td>\n",
       "      <td>False</td>\n",
       "      <td>True</td>\n",
       "      <td>False</td>\n",
       "      <td>False</td>\n",
       "      <td>False</td>\n",
       "      <td>4.0</td>\n",
       "      <td>True</td>\n",
       "      <td>73800.0</td>\n",
       "      <td>73800.0</td>\n",
       "      <td>...</td>\n",
       "      <td>12.0</td>\n",
       "      <td>True</td>\n",
       "      <td>True</td>\n",
       "      <td>False</td>\n",
       "      <td>73.0</td>\n",
       "      <td>61703.0</td>\n",
       "      <td>12097.0</td>\n",
       "      <td>29001.0</td>\n",
       "      <td>-71.126122</td>\n",
       "      <td>42.376260</td>\n",
       "    </tr>\n",
       "    <tr>\n",
       "      <th>4</th>\n",
       "      <td>Princeton University</td>\n",
       "      <td>False</td>\n",
       "      <td>True</td>\n",
       "      <td>False</td>\n",
       "      <td>False</td>\n",
       "      <td>False</td>\n",
       "      <td>5.0</td>\n",
       "      <td>True</td>\n",
       "      <td>70850.0</td>\n",
       "      <td>70850.0</td>\n",
       "      <td>...</td>\n",
       "      <td>12.0</td>\n",
       "      <td>True</td>\n",
       "      <td>True</td>\n",
       "      <td>False</td>\n",
       "      <td>70.0</td>\n",
       "      <td>54271.0</td>\n",
       "      <td>16579.0</td>\n",
       "      <td>32702.0</td>\n",
       "      <td>-74.658000</td>\n",
       "      <td>40.342835</td>\n",
       "    </tr>\n",
       "  </tbody>\n",
       "</table>\n",
       "<p>5 rows × 21 columns</p>\n",
       "</div>"
      ],
      "text/plain": [
       "                              University  Large  Medium  Public  Liberal Arts  \\\n",
       "0  Massachusetts Institute of Technology  False    True   False         False   \n",
       "1                    Stanford University  False    True   False         False   \n",
       "2                        Yale University  False    True   False         False   \n",
       "3                     Harvard University  False    True   False         False   \n",
       "4                   Princeton University  False    True   False         False   \n",
       "\n",
       "   Small  Rank  Private  Total Cost of Attendance  Full-Time Undergrads  ...  \\\n",
       "0  False   1.0     True                   73160.0               73160.0  ...   \n",
       "1  False   2.0     True                   75470.0               75470.0  ...   \n",
       "2  False   3.0     True                   76490.0               76490.0  ...   \n",
       "3  False   4.0     True                   73800.0               73800.0  ...   \n",
       "4  False   5.0     True                   70850.0               70850.0  ...   \n",
       "\n",
       "   Percentage of Nonresident Aliens to All Undergrads  Policy: Need-based  \\\n",
       "0                                               10.0                 True   \n",
       "1                                               11.0                 True   \n",
       "2                                               11.0                 True   \n",
       "3                                               12.0                 True   \n",
       "4                                               12.0                 True   \n",
       "\n",
       "   Policy: Merit  Policy: No Aid  \\\n",
       "0           True           False   \n",
       "1           True           False   \n",
       "2           True           False   \n",
       "3           True           False   \n",
       "4           True           False   \n",
       "\n",
       "   Percentage of Nonresident Aliens Receiving Aid  Average Aid Award  \\\n",
       "0                                            78.0            56675.0   \n",
       "1                                            27.0            60250.0   \n",
       "2                                            57.0            62089.0   \n",
       "3                                            73.0            61703.0   \n",
       "4                                            70.0            54271.0   \n",
       "\n",
       "   Average Cost with Aid  Expected Cost   Longitude   Latitude  \n",
       "0                16485.0        28887.0  -71.095678  42.358396  \n",
       "1                15220.0        59083.0 -122.169365  37.431609  \n",
       "2                14401.0        41120.0  -72.925660  41.312404  \n",
       "3                12097.0        29001.0  -71.126122  42.376260  \n",
       "4                16579.0        32702.0  -74.658000  40.342835  \n",
       "\n",
       "[5 rows x 21 columns]"
      ]
     },
     "execution_count": 167,
     "metadata": {},
     "output_type": "execute_result"
    }
   ],
   "source": [
    "data.head()"
   ]
  },
  {
   "cell_type": "code",
   "execution_count": 174,
   "metadata": {},
   "outputs": [],
   "source": [
    "cols = data.columns.tolist()"
   ]
  },
  {
   "cell_type": "code",
   "execution_count": 206,
   "metadata": {},
   "outputs": [],
   "source": [
    "col_order=[cols[0]]+ [cols[6]]+ [cols[5]] + [cols[2]] + [cols[1]] + [cols[3]] + [cols[7]]  + [cols[4]] + cols[8:]"
   ]
  },
  {
   "cell_type": "code",
   "execution_count": 207,
   "metadata": {},
   "outputs": [
    {
     "data": {
      "text/plain": [
       "21"
      ]
     },
     "execution_count": 207,
     "metadata": {},
     "output_type": "execute_result"
    }
   ],
   "source": [
    "len(col_order)"
   ]
  },
  {
   "cell_type": "code",
   "execution_count": 213,
   "metadata": {},
   "outputs": [],
   "source": [
    "order = col_order[:-2] + [col_order[-1]] + [col_order[-2]]"
   ]
  },
  {
   "cell_type": "code",
   "execution_count": 214,
   "metadata": {},
   "outputs": [
    {
     "data": {
      "text/plain": [
       "21"
      ]
     },
     "execution_count": 214,
     "metadata": {},
     "output_type": "execute_result"
    }
   ],
   "source": [
    "len(order)"
   ]
  },
  {
   "cell_type": "code",
   "execution_count": 215,
   "metadata": {},
   "outputs": [],
   "source": [
    "arranged_data = data[order]"
   ]
  },
  {
   "cell_type": "code",
   "execution_count": 216,
   "metadata": {},
   "outputs": [
    {
     "data": {
      "text/plain": [
       "(78, 21)"
      ]
     },
     "execution_count": 216,
     "metadata": {},
     "output_type": "execute_result"
    }
   ],
   "source": [
    "arranged_data.shape"
   ]
  },
  {
   "cell_type": "code",
   "execution_count": 217,
   "metadata": {},
   "outputs": [
    {
     "data": {
      "text/plain": [
       "(78, 21)"
      ]
     },
     "execution_count": 217,
     "metadata": {},
     "output_type": "execute_result"
    }
   ],
   "source": [
    "data.shape"
   ]
  },
  {
   "cell_type": "code",
   "execution_count": 218,
   "metadata": {},
   "outputs": [],
   "source": [
    "arranged_data.to_csv('data_prepared.csv')"
   ]
  },
  {
   "cell_type": "code",
   "execution_count": null,
   "metadata": {},
   "outputs": [],
   "source": []
  }
 ],
 "metadata": {
  "kernelspec": {
   "display_name": "Python 3",
   "language": "python",
   "name": "python3"
  },
  "language_info": {
   "codemirror_mode": {
    "name": "ipython",
    "version": 3
   },
   "file_extension": ".py",
   "mimetype": "text/x-python",
   "name": "python",
   "nbconvert_exporter": "python",
   "pygments_lexer": "ipython3",
   "version": "3.7.7"
  }
 },
 "nbformat": 4,
 "nbformat_minor": 4
}
