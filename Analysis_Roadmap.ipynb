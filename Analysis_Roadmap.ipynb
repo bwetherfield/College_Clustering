{
 "cells": [
  {
   "cell_type": "markdown",
   "metadata": {},
   "source": [
    "# Contents with links to relevant notebooks"
   ]
  },
  {
   "cell_type": "markdown",
   "metadata": {},
   "source": [
    "## [Financial Aid Import](Financial_Aid_Data_Importing.ipynb)\n",
    "\n",
    "Importing and clean-up of a modified version of the bigeducationalconsulting.com dataset for non-resident aliens.\n",
    "\n",
    "## [Basic University Gathering Exercise](Basic_University_Gathering.ipynb)\n",
    "\n",
    "Using webscraping and HTML destructuring from a college ranking website, we obtain a list of strong universities, their relative \"rank\", their sizes, along with their public, private and liberal arts statuses.\n",
    "\n",
    "## [Combining of the above two datasets](Combine.ipynb)\n",
    "\n",
    "## [Latitude and Longitude Fetching](Latitude_Longitude_fetching.ipynb)\n",
    "\n",
    "Using geocoder tools to get geolocation data for all the universities in our dataset.\n",
    "\n",
    "## [Characterizing the \"feel\" of universities](Foursquare_Usage.ipynb)\n",
    "\n",
    "We use the Foursquare Places API to gather venues surrounding the longitude/latitude locations of the universities in our data set. Based on these venues, we cluster universities based on the similarities of their town settings and the size of the universities."
   ]
  },
  {
   "cell_type": "code",
   "execution_count": null,
   "metadata": {},
   "outputs": [],
   "source": []
  }
 ],
 "metadata": {
  "kernelspec": {
   "display_name": "Python 3",
   "language": "python",
   "name": "python3"
  },
  "language_info": {
   "codemirror_mode": {
    "name": "ipython",
    "version": 3
   },
   "file_extension": ".py",
   "mimetype": "text/x-python",
   "name": "python",
   "nbconvert_exporter": "python",
   "pygments_lexer": "ipython3",
   "version": "3.7.7"
  }
 },
 "nbformat": 4,
 "nbformat_minor": 4
}
