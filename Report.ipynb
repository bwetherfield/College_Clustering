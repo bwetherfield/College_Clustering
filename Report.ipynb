{
 "cells": [
  {
   "cell_type": "markdown",
   "metadata": {},
   "source": [
    "# Finding the Right College Environment"
   ]
  },
  {
   "cell_type": "markdown",
   "metadata": {},
   "source": [
    "## Introduction\n",
    "\n",
    "In trying to determine best-fit colleges for them, juniors in high school are faced with a plethora of available information, forum discussions and hearsay. In order to break through the noise, parents and guardians often turn to education consultants and counselors to help their children find the best school that will have them and at which they will succeed. They must navigating concrete gateways to entry like testing requirements and availability of financial aid, while simultaneously having to juggle the intangibles of \"feel\" and \"prestige\". Especially for International students with a limited frame of reference for universities, it becomes hard to even conjure up a shortlist of schools let alone visit campuses in search of \"gut feelings\" and \"instincts\". The global coronavirus pandemic has only increased the barriers to access to campuses for International students, and indeed, even students on American soil. In trying to gain better recommendations or insights, students turn to their counselors and consultants, who offer a valuable source of insight through their knowledge and anecdotal experience. There are still limits however, to the lived experience of different campuses that these professionals can have, and hence, limitations on the level of certainty with which they can recommend certain campuses for certain students. Inevitably, there are campuses they know extremely well, and sometimes biases towards them in their recommendations. Students meanwhile, can have a very strong feeling for one campus that they happened to visit, but may miss out on a better fit school that they were not able to reach on a college tour.\n",
    "\n",
    "For professionals and clients alike, this project will provide a better means of navigating clusters of \"similar\" schools, with similarity measured in terms of the make-up of the college town, the relative strength of different departments according to college rankings, and track-record with financial aid etc.. A student or consultant need only be intimately familiar with one campus in a cluster in order to have a better idea of what to expect from other schools in the same cluster. In particular, this tool will add value to the level of service that education consultants can provide, increasing client satisfaction and improving student outcomes, key pillars of a healthy education consultancy business."
   ]
  },
  {
   "cell_type": "markdown",
   "metadata": {},
   "source": [
    "## Data\n",
    "\n",
    "The data used will capture three aspects through which to measure college experience. \n",
    "\n",
    "1. The composition of the college town or neighborhood.\n",
    "2. The general reputation of a school, as reflected in college ranking websites.\n",
    "3. The track record of a school with respect to financial aid.\n",
    "\n",
    "### College Towns\n",
    "\n",
    "In order to characterize college towns, we will use Foursqare Places API data. Using Places, we can get a very reliable account of the incidence of different types of venues within a given radius (say, around a particular university). As part of this project, we will be able to group and compare the vicinities of different universities, with possible emphasis on the outlets most important to college life - tentaively including coffee shops, frozen yoghurt places (!), cultural / entertainment venues, green spaces and transport links.\n",
    "\n",
    "### Prestige\n",
    "\n",
    "While college rankings have their limitations, they do reflect aggregated metrics of university value. Indeed, reflexively, they gain significance, as decision makers and stakeholders will turn to rankings to make appraisals of school programs, possible employees and so on. For better or worse, they are here to stay and play an active role both in reflecting prestige and *defining* it. Some ranking systems more than others provide a better account of *undergraduate* experience (as opposed to graduate rankings, research data etc.). In my experience as a professional education consultant, I have found *niche.com* to be an excellent resource, that conforms to my own knowledge of different schools, while also supplementing it, hence earning my trust and respect! We will round up relevant data from *niche* by means of webscraping as needed.\n",
    "\n",
    "### Financial Aid\n",
    "\n",
    "Educational consultants Jennie Kent and Jeff Levy have very generously made their aggregations of financial aid statistics openly available to the public, hosted on the website *bigeducationalconsulting.com*. In particular they have opened up excel spreadsheets that record the average financial aid package offered and proportion of students on aid at most major US universities. Their data is sourced from the Common Data Set Initiative (https://www.commondataset.org/), a survey distributed to universities, many of which publish their responses."
   ]
  },
  {
   "cell_type": "code",
   "execution_count": null,
   "metadata": {},
   "outputs": [],
   "source": []
  }
 ],
 "metadata": {
  "kernelspec": {
   "display_name": "Python 3",
   "language": "python",
   "name": "python3"
  },
  "language_info": {
   "codemirror_mode": {
    "name": "ipython",
    "version": 3
   },
   "file_extension": ".py",
   "mimetype": "text/x-python",
   "name": "python",
   "nbconvert_exporter": "python",
   "pygments_lexer": "ipython3",
   "version": "3.7.7"
  }
 },
 "nbformat": 4,
 "nbformat_minor": 4
}
