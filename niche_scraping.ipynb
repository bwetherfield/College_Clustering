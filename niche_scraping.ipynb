{
 "cells": [
  {
   "cell_type": "code",
   "execution_count": 2,
   "metadata": {},
   "outputs": [],
   "source": [
    "from bs4 import BeautifulSoup\n",
    "import requests"
   ]
  },
  {
   "cell_type": "code",
   "execution_count": 9,
   "metadata": {},
   "outputs": [],
   "source": [
    "url = \"https://www.niche.com/colleges/search/best-colleges/?page=0\"\n",
    "r = requests.get(url)\n",
    "d = r.text\n",
    "soup = BeautifulSoup(d)"
   ]
  },
  {
   "cell_type": "code",
   "execution_count": 10,
   "metadata": {},
   "outputs": [
    {
     "data": {
      "text/plain": [
       "[]"
      ]
     },
     "execution_count": 10,
     "metadata": {},
     "output_type": "execute_result"
    }
   ],
   "source": [
    "soup.find_all(\"h2\")"
   ]
  },
  {
   "cell_type": "code",
   "execution_count": 11,
   "metadata": {},
   "outputs": [
    {
     "name": "stdout",
     "output_type": "stream",
     "text": [
      "Collecting requests-html\n",
      "  Downloading requests_html-0.10.0-py3-none-any.whl (13 kB)\n",
      "Collecting parse\n",
      "  Downloading parse-1.15.0.tar.gz (29 kB)\n",
      "Requirement already satisfied: requests in /Users/ben/opt/anaconda3/envs/myenv/lib/python3.7/site-packages (from requests-html) (2.23.0)\n",
      "Collecting pyquery\n",
      "  Downloading pyquery-1.4.1-py2.py3-none-any.whl (22 kB)\n",
      "Collecting pyppeteer>=0.0.14\n",
      "  Downloading pyppeteer-0.2.2-py3-none-any.whl (145 kB)\n",
      "\u001b[K     |████████████████████████████████| 145 kB 804 kB/s eta 0:00:01\n",
      "\u001b[?25hCollecting fake-useragent\n",
      "  Downloading fake-useragent-0.1.11.tar.gz (13 kB)\n",
      "Collecting w3lib\n",
      "  Downloading w3lib-1.22.0-py2.py3-none-any.whl (20 kB)\n",
      "Collecting bs4\n",
      "  Downloading bs4-0.0.1.tar.gz (1.1 kB)\n",
      "Requirement already satisfied: urllib3!=1.25.0,!=1.25.1,<1.26,>=1.21.1 in /Users/ben/opt/anaconda3/envs/myenv/lib/python3.7/site-packages (from requests->requests-html) (1.25.9)\n",
      "Requirement already satisfied: certifi>=2017.4.17 in /Users/ben/opt/anaconda3/envs/myenv/lib/python3.7/site-packages (from requests->requests-html) (2020.4.5.1)\n",
      "Requirement already satisfied: chardet<4,>=3.0.2 in /Users/ben/opt/anaconda3/envs/myenv/lib/python3.7/site-packages (from requests->requests-html) (3.0.4)\n",
      "Requirement already satisfied: idna<3,>=2.5 in /Users/ben/opt/anaconda3/envs/myenv/lib/python3.7/site-packages (from requests->requests-html) (2.9)\n",
      "Collecting cssselect>0.7.9\n",
      "  Downloading cssselect-1.1.0-py2.py3-none-any.whl (16 kB)\n",
      "Requirement already satisfied: lxml>=2.1 in /Users/ben/opt/anaconda3/envs/myenv/lib/python3.7/site-packages (from pyquery->requests-html) (4.5.0)\n",
      "Collecting appdirs<2.0.0,>=1.4.3\n",
      "  Downloading appdirs-1.4.4-py2.py3-none-any.whl (9.6 kB)\n",
      "Collecting websockets<9.0,>=8.1\n",
      "  Downloading websockets-8.1-cp37-cp37m-macosx_10_6_intel.whl (66 kB)\n",
      "\u001b[K     |████████████████████████████████| 66 kB 802 kB/s eta 0:00:01\n",
      "\u001b[?25hCollecting pyee<8.0.0,>=7.0.1\n",
      "  Downloading pyee-7.0.2-py2.py3-none-any.whl (12 kB)\n",
      "Collecting tqdm<5.0.0,>=4.42.1\n",
      "  Downloading tqdm-4.46.1-py2.py3-none-any.whl (63 kB)\n",
      "\u001b[K     |████████████████████████████████| 63 kB 783 kB/s eta 0:00:01\n",
      "\u001b[?25hRequirement already satisfied: six>=1.4.1 in /Users/ben/opt/anaconda3/envs/myenv/lib/python3.7/site-packages (from w3lib->requests-html) (1.14.0)\n",
      "Requirement already satisfied: beautifulsoup4 in /Users/ben/opt/anaconda3/envs/myenv/lib/python3.7/site-packages (from bs4->requests-html) (4.9.0)\n",
      "Requirement already satisfied: soupsieve>1.2 in /Users/ben/opt/anaconda3/envs/myenv/lib/python3.7/site-packages (from beautifulsoup4->bs4->requests-html) (2.0.1)\n",
      "Building wheels for collected packages: parse, fake-useragent, bs4\n",
      "  Building wheel for parse (setup.py) ... \u001b[?25ldone\n",
      "\u001b[?25h  Created wheel for parse: filename=parse-1.15.0-py3-none-any.whl size=23709 sha256=e6d4a349c928d5bdaa90c6f0bb9f66c534531d7781481faf40abafceaed6328c\n",
      "  Stored in directory: /Users/ben/Library/Caches/pip/wheels/d7/b3/1d/5c94c64413b2212f64a297c92f11edd45e4474d08d0220a008\n",
      "  Building wheel for fake-useragent (setup.py) ... \u001b[?25ldone\n",
      "\u001b[?25h  Created wheel for fake-useragent: filename=fake_useragent-0.1.11-py3-none-any.whl size=13487 sha256=06af877a6b425dadc19e3e968b103406c9f5e3e2a1a9b14d3892bfd35a27fb49\n",
      "  Stored in directory: /Users/ben/Library/Caches/pip/wheels/ed/f7/62/50ab6c9a0b5567267ab76a9daa9d06315704209b2c5d032031\n",
      "  Building wheel for bs4 (setup.py) ... \u001b[?25ldone\n",
      "\u001b[?25h  Created wheel for bs4: filename=bs4-0.0.1-py3-none-any.whl size=1272 sha256=46e265c8514b48723866aca4cfc176346071cc22445d31cf92fc44732202da4d\n",
      "  Stored in directory: /Users/ben/Library/Caches/pip/wheels/0a/9e/ba/20e5bbc1afef3a491f0b3bb74d508f99403aabe76eda2167ca\n",
      "Successfully built parse fake-useragent bs4\n",
      "Installing collected packages: parse, cssselect, pyquery, appdirs, websockets, pyee, tqdm, pyppeteer, fake-useragent, w3lib, bs4, requests-html\n",
      "Successfully installed appdirs-1.4.4 bs4-0.0.1 cssselect-1.1.0 fake-useragent-0.1.11 parse-1.15.0 pyee-7.0.2 pyppeteer-0.2.2 pyquery-1.4.1 requests-html-0.10.0 tqdm-4.46.1 w3lib-1.22.0 websockets-8.1\n"
     ]
    }
   ],
   "source": [
    "# !pip install requests-html"
   ]
  },
  {
   "cell_type": "code",
   "execution_count": 13,
   "metadata": {},
   "outputs": [],
   "source": [
    "from requests_html import HTMLSession"
   ]
  },
  {
   "cell_type": "code",
   "execution_count": 14,
   "metadata": {},
   "outputs": [],
   "source": [
    "session = HTMLSession()"
   ]
  },
  {
   "cell_type": "code",
   "execution_count": 16,
   "metadata": {},
   "outputs": [],
   "source": [
    "response = session.get(url)"
   ]
  },
  {
   "cell_type": "code",
   "execution_count": 21,
   "metadata": {},
   "outputs": [],
   "source": [
    "html = response.html"
   ]
  },
  {
   "cell_type": "code",
   "execution_count": 29,
   "metadata": {},
   "outputs": [],
   "source": [
    "list_items = html.find('li.search-results__list__item')"
   ]
  },
  {
   "cell_type": "code",
   "execution_count": 33,
   "metadata": {},
   "outputs": [
    {
     "data": {
      "text/plain": [
       "[<Element 'h2' class=('search-result__title',)>]"
      ]
     },
     "execution_count": 33,
     "metadata": {},
     "output_type": "execute_result"
    }
   ],
   "source": [
    "list_items[0].find('h2')"
   ]
  },
  {
   "cell_type": "code",
   "execution_count": 36,
   "metadata": {},
   "outputs": [
    {
     "data": {
      "text/plain": [
       "['Massachusetts Institute of Technology',\n",
       " 'Stanford University',\n",
       " 'Yale University',\n",
       " 'Harvard University',\n",
       " 'Princeton University',\n",
       " 'Duke University',\n",
       " 'Brown University',\n",
       " 'Columbia University',\n",
       " 'University of Pennsylvania',\n",
       " 'Rice University',\n",
       " 'Northwestern University',\n",
       " 'Vanderbilt University',\n",
       " 'Pomona College',\n",
       " 'Washington University in St. Louis',\n",
       " 'Dartmouth College',\n",
       " 'California Institute of Technology',\n",
       " 'University of Notre Dame',\n",
       " 'University of Chicago',\n",
       " 'University of Southern California',\n",
       " 'Cornell University',\n",
       " 'Bowdoin College',\n",
       " 'Amherst College',\n",
       " 'University of Michigan - Ann Arbor',\n",
       " 'Georgetown University',\n",
       " 'Tufts University']"
      ]
     },
     "execution_count": 36,
     "metadata": {},
     "output_type": "execute_result"
    }
   ],
   "source": [
    "[item.find('h2')[0].text for item in list_items]"
   ]
  },
  {
   "cell_type": "code",
   "execution_count": 37,
   "metadata": {},
   "outputs": [],
   "source": [
    "def get_names(n):\n",
    "    url = \"https://www.niche.com/colleges/search/best-colleges/?page={}\".format(n)\n",
    "    session = HTMLSession()\n",
    "    response = session.get(url)\n",
    "    html = response.html\n",
    "    list_items = html.find('li.search-results__list__item')\n",
    "    return [item.find('h2')[0].text for item in list_items]"
   ]
  },
  {
   "cell_type": "code",
   "execution_count": 40,
   "metadata": {},
   "outputs": [],
   "source": [
    "output = get_names(2)"
   ]
  },
  {
   "cell_type": "code",
   "execution_count": 41,
   "metadata": {},
   "outputs": [
    {
     "data": {
      "text/plain": [
       "['University of California - Los Angeles',\n",
       " 'Johns Hopkins University',\n",
       " 'Carnegie Mellon University',\n",
       " 'University of Virginia',\n",
       " 'Emory University',\n",
       " 'Haverford College',\n",
       " 'Carleton College',\n",
       " 'Middlebury College',\n",
       " 'Barnard College',\n",
       " 'Williams College',\n",
       " 'Washington & Lee University',\n",
       " 'United States Military Academy at West Point',\n",
       " 'Georgia Institute of Technology',\n",
       " 'Wellesley College',\n",
       " 'Swarthmore College',\n",
       " 'University of California - Berkeley',\n",
       " 'Wake Forest University',\n",
       " 'University of North Carolina at Chapel Hill',\n",
       " 'Northeastern University',\n",
       " 'Davidson College',\n",
       " 'New York University',\n",
       " 'Bates College',\n",
       " 'Boston College',\n",
       " 'Claremont McKenna College',\n",
       " 'Harvey Mudd College']"
      ]
     },
     "execution_count": 41,
     "metadata": {},
     "output_type": "execute_result"
    }
   ],
   "source": [
    "output"
   ]
  },
  {
   "cell_type": "code",
   "execution_count": 42,
   "metadata": {},
   "outputs": [
    {
     "data": {
      "text/plain": [
       "[1, 2, 3, 4]"
      ]
     },
     "execution_count": 42,
     "metadata": {},
     "output_type": "execute_result"
    }
   ],
   "source": [
    "list(range(1,5))"
   ]
  },
  {
   "cell_type": "code",
   "execution_count": 43,
   "metadata": {},
   "outputs": [],
   "source": [
    "schools = [get_names(i) for i in list(range(1,5))]"
   ]
  },
  {
   "cell_type": "code",
   "execution_count": 44,
   "metadata": {},
   "outputs": [],
   "source": [
    "from functools import reduce"
   ]
  },
  {
   "cell_type": "code",
   "execution_count": 46,
   "metadata": {},
   "outputs": [],
   "source": [
    "import operator"
   ]
  },
  {
   "cell_type": "code",
   "execution_count": 48,
   "metadata": {},
   "outputs": [],
   "source": [
    "flattened_schools = reduce(operator.add, schools)"
   ]
  },
  {
   "cell_type": "code",
   "execution_count": 49,
   "metadata": {},
   "outputs": [
    {
     "data": {
      "text/plain": [
       "['Massachusetts Institute of Technology',\n",
       " 'Stanford University',\n",
       " 'Yale University',\n",
       " 'Harvard University',\n",
       " 'Princeton University',\n",
       " 'Duke University',\n",
       " 'Brown University',\n",
       " 'Columbia University',\n",
       " 'University of Pennsylvania',\n",
       " 'Rice University',\n",
       " 'Northwestern University',\n",
       " 'Vanderbilt University',\n",
       " 'Pomona College',\n",
       " 'Washington University in St. Louis',\n",
       " 'Dartmouth College',\n",
       " 'California Institute of Technology',\n",
       " 'University of Notre Dame',\n",
       " 'University of Chicago',\n",
       " 'University of Southern California',\n",
       " 'Cornell University',\n",
       " 'Bowdoin College',\n",
       " 'Amherst College',\n",
       " 'University of Michigan - Ann Arbor',\n",
       " 'Georgetown University',\n",
       " 'Tufts University',\n",
       " 'University of California - Los Angeles',\n",
       " 'Johns Hopkins University',\n",
       " 'Carnegie Mellon University',\n",
       " 'University of Virginia',\n",
       " 'Emory University',\n",
       " 'Haverford College',\n",
       " 'Carleton College',\n",
       " 'Middlebury College',\n",
       " 'Barnard College',\n",
       " 'Williams College',\n",
       " 'Washington & Lee University',\n",
       " 'United States Military Academy at West Point',\n",
       " 'Georgia Institute of Technology',\n",
       " 'Wellesley College',\n",
       " 'Swarthmore College',\n",
       " 'University of California - Berkeley',\n",
       " 'Wake Forest University',\n",
       " 'University of North Carolina at Chapel Hill',\n",
       " 'Northeastern University',\n",
       " 'Davidson College',\n",
       " 'New York University',\n",
       " 'Bates College',\n",
       " 'Boston College',\n",
       " 'Claremont McKenna College',\n",
       " 'Harvey Mudd College',\n",
       " 'University of Texas - Austin',\n",
       " 'Colby College',\n",
       " 'Hamilton College',\n",
       " 'Wesleyan University',\n",
       " 'Lehigh University',\n",
       " 'William & Mary',\n",
       " 'Colgate University',\n",
       " 'Virginia Tech',\n",
       " 'University of Florida',\n",
       " 'Boston University',\n",
       " 'University of Richmond',\n",
       " 'Smith College',\n",
       " 'University of Wisconsin',\n",
       " 'University of Illinois at Urbana-Champaign',\n",
       " 'Vassar College',\n",
       " 'University of Georgia',\n",
       " 'Colorado College',\n",
       " 'The Cooper Union for the Advancement of Science and Art',\n",
       " 'Grinnell College',\n",
       " 'Bucknell University',\n",
       " 'Bryn Mawr College',\n",
       " 'Kenyon College',\n",
       " 'Rensselaer Polytechnic Institute',\n",
       " 'University of Miami',\n",
       " 'University of California - Santa Barbara',\n",
       " 'University of Rochester',\n",
       " 'Southern Methodist University',\n",
       " 'Brigham Young University',\n",
       " 'Case Western Reserve University',\n",
       " 'Macalester College',\n",
       " 'Villanova University',\n",
       " 'Lafayette College',\n",
       " 'Purdue University',\n",
       " 'College of the Holy Cross',\n",
       " 'Tulane University',\n",
       " 'Babson College',\n",
       " 'Colorado School of Mines',\n",
       " 'Santa Clara University',\n",
       " 'University of Minnesota - Twin Cities',\n",
       " 'Mount Holyoke College',\n",
       " 'Worcester Polytechnic Institute',\n",
       " 'University of Washington',\n",
       " 'Penn State',\n",
       " 'The Ohio State University',\n",
       " 'Texas A&M University',\n",
       " 'North Carolina State University',\n",
       " 'Reed College',\n",
       " 'Rose-Hulman Institute of Technology',\n",
       " 'Scripps College',\n",
       " 'Clemson University']"
      ]
     },
     "execution_count": 49,
     "metadata": {},
     "output_type": "execute_result"
    }
   ],
   "source": [
    "flattened_schools"
   ]
  },
  {
   "cell_type": "code",
   "execution_count": 50,
   "metadata": {},
   "outputs": [],
   "source": [
    "import pandas as pd"
   ]
  },
  {
   "cell_type": "code",
   "execution_count": 53,
   "metadata": {},
   "outputs": [
    {
     "data": {
      "text/plain": [
       "<HTML url='https://www.niche.com/colleges/search/best-colleges/?page=0'>"
      ]
     },
     "execution_count": 53,
     "metadata": {},
     "output_type": "execute_result"
    }
   ],
   "source": [
    "html"
   ]
  },
  {
   "cell_type": "code",
   "execution_count": 56,
   "metadata": {},
   "outputs": [],
   "source": [
    "majors = html.find('[name=majorDropdown]')"
   ]
  },
  {
   "cell_type": "code",
   "execution_count": 59,
   "metadata": {},
   "outputs": [],
   "source": [
    "option = majors[0].find('option')"
   ]
  },
  {
   "cell_type": "code",
   "execution_count": 73,
   "metadata": {},
   "outputs": [],
   "source": [
    "majors = [i.attrs['value'] for i in option[1:]]"
   ]
  },
  {
   "cell_type": "code",
   "execution_count": 111,
   "metadata": {},
   "outputs": [
    {
     "data": {
      "text/plain": [
       "['Agricultural Sciences',\n",
       " 'Anthropology and Sociology',\n",
       " 'Architecture',\n",
       " 'Art',\n",
       " 'Arts Management',\n",
       " 'Biology',\n",
       " 'Building and Construction',\n",
       " 'Business and Management',\n",
       " 'Chemistry',\n",
       " 'Communications',\n",
       " 'Computer Science',\n",
       " 'Cosmetology',\n",
       " 'Criminal Justice',\n",
       " 'Culinary Arts',\n",
       " 'Dental Studies',\n",
       " 'Design',\n",
       " 'Economics',\n",
       " 'Education',\n",
       " 'Engineering',\n",
       " 'Engineering Technicians',\n",
       " 'English',\n",
       " 'Environmental Science',\n",
       " 'Film and Photography',\n",
       " 'Finance and Accounting',\n",
       " 'Food and Nutrition',\n",
       " 'Foreign Languages',\n",
       " 'Global Studies',\n",
       " 'Health Care Management',\n",
       " 'Health Professions',\n",
       " 'History',\n",
       " 'Information Technology',\n",
       " 'Interdisciplinary Studies',\n",
       " 'International Relations',\n",
       " 'Kinesiology and Physical Therapy',\n",
       " 'Legal Studies',\n",
       " 'Math',\n",
       " 'Mechanics',\n",
       " 'Medical Assistants and Technicians',\n",
       " 'Music',\n",
       " 'Nursing',\n",
       " 'Performing Arts/Theater',\n",
       " 'Pharmacy',\n",
       " 'Philosophy',\n",
       " 'Physics',\n",
       " 'Political Science',\n",
       " 'Protective Services',\n",
       " 'Psychology',\n",
       " 'Public Health',\n",
       " 'Public Policy and Social Services',\n",
       " 'Religious Studies',\n",
       " 'Sports Management and Leisure Studies',\n",
       " 'Trades and Personal Services',\n",
       " 'Veterinary Studies']"
      ]
     },
     "execution_count": 111,
     "metadata": {},
     "output_type": "execute_result"
    }
   ],
   "source": [
    "majors_names = [i.text for i in option[1:]]\n",
    "majors_names"
   ]
  },
  {
   "cell_type": "code",
   "execution_count": 75,
   "metadata": {},
   "outputs": [
    {
     "data": {
      "text/plain": [
       "['best-colleges-for-agricultural-sciences',\n",
       " 'best-colleges-for-anthropology-archaeology',\n",
       " 'best-colleges-for-architecture',\n",
       " 'best-colleges-for-visual-arts',\n",
       " 'best-colleges-for-arts-management',\n",
       " 'best-colleges-for-biology',\n",
       " 'best-colleges-for-building-and-construction',\n",
       " 'best-colleges-for-business-management',\n",
       " 'best-colleges-for-chemistry',\n",
       " 'best-colleges-for-communications-journalism',\n",
       " 'best-colleges-for-computer-science',\n",
       " 'best-colleges-for-cosmetology',\n",
       " 'best-colleges-for-criminal-justice',\n",
       " 'best-colleges-for-culinary-arts-and-food-service',\n",
       " 'best-colleges-for-dental',\n",
       " 'best-colleges-for-design',\n",
       " 'best-colleges-for-economics',\n",
       " 'best-colleges-for-education',\n",
       " 'best-colleges-for-engineering',\n",
       " 'best-colleges-for-engineering-technicians',\n",
       " 'best-colleges-for-english',\n",
       " 'best-colleges-for-earth-and-environmental-sciences',\n",
       " 'best-colleges-for-film-video-and-photography',\n",
       " 'best-colleges-for-finance-accounting',\n",
       " 'best-colleges-for-food-and-nutrition',\n",
       " 'best-colleges-for-foreign-languages',\n",
       " 'best-colleges-for-global-studies',\n",
       " 'best-colleges-for-health-care-management',\n",
       " 'best-colleges-for-health-professions',\n",
       " 'best-colleges-for-history',\n",
       " 'best-colleges-for-information-technology',\n",
       " 'best-colleges-for-humanities',\n",
       " 'best-colleges-for-international-relations',\n",
       " 'best-colleges-for-rehabilitation-and-therapy',\n",
       " 'best-colleges-for-legal-studies',\n",
       " 'best-colleges-for-mathematics',\n",
       " 'best-colleges-for-mechanics-repair',\n",
       " 'best-colleges-for-medical-assistant-technician',\n",
       " 'best-colleges-for-music',\n",
       " 'best-colleges-for-nursing',\n",
       " 'best-colleges-for-performing-arts',\n",
       " 'best-colleges-for-pharmacy',\n",
       " 'best-colleges-for-philosophy',\n",
       " 'best-colleges-for-physics',\n",
       " 'best-colleges-for-political-science',\n",
       " 'best-colleges-for-protective-services',\n",
       " 'best-colleges-for-psychology',\n",
       " 'best-colleges-for-public-health',\n",
       " 'best-colleges-for-public-policy',\n",
       " 'best-colleges-for-religious-studies-theology',\n",
       " 'best-colleges-for-sports-management',\n",
       " 'best-colleges-for-trades-and-personal-services',\n",
       " 'best-colleges-for-veterinary-studies']"
      ]
     },
     "execution_count": 75,
     "metadata": {},
     "output_type": "execute_result"
    }
   ],
   "source": [
    "majors"
   ]
  },
  {
   "cell_type": "code",
   "execution_count": 76,
   "metadata": {},
   "outputs": [],
   "source": [
    "major_url = \"https://www.niche.com/colleges/search/{}/\""
   ]
  },
  {
   "cell_type": "code",
   "execution_count": 77,
   "metadata": {},
   "outputs": [],
   "source": [
    "eg_url = major_url.format(majors[0])"
   ]
  },
  {
   "cell_type": "code",
   "execution_count": 78,
   "metadata": {},
   "outputs": [
    {
     "data": {
      "text/plain": [
       "'https://www.niche.com/colleges/search/best-colleges-for-agricultural-sciences/'"
      ]
     },
     "execution_count": 78,
     "metadata": {},
     "output_type": "execute_result"
    }
   ],
   "source": [
    "eg_url"
   ]
  },
  {
   "cell_type": "code",
   "execution_count": 79,
   "metadata": {},
   "outputs": [],
   "source": [
    "test = \"https://www.niche.com/colleges/search/{}/?page={}\".format(majors[0], 2)"
   ]
  },
  {
   "cell_type": "code",
   "execution_count": 80,
   "metadata": {},
   "outputs": [
    {
     "data": {
      "text/plain": [
       "'https://www.niche.com/colleges/search/best-colleges-for-agricultural-sciences/?page=2'"
      ]
     },
     "execution_count": 80,
     "metadata": {},
     "output_type": "execute_result"
    }
   ],
   "source": [
    "test"
   ]
  },
  {
   "cell_type": "code",
   "execution_count": 81,
   "metadata": {},
   "outputs": [],
   "source": [
    "def get_names_major(n, major):\n",
    "    url = \"https://www.niche.com/colleges/search/{}/?page={}\".format(major, n)\n",
    "    session = HTMLSession()\n",
    "    response = session.get(url)\n",
    "    html = response.html\n",
    "    list_items = html.find('li.search-results__list__item')\n",
    "    return [item.find('h2')[0].text for item in list_items]"
   ]
  },
  {
   "cell_type": "code",
   "execution_count": 108,
   "metadata": {},
   "outputs": [],
   "source": [
    "def get_num(n, **kwargs):\n",
    "    if 'major' in kwargs:\n",
    "        return reduce(operator.add, [get_names_major(k, kwargs['major']) for k in list(range(1, n+1))])\n",
    "    else:\n",
    "        return reduce(operator.add, [get_names(k) for k in list(range(1, n+1))])"
   ]
  },
  {
   "cell_type": "code",
   "execution_count": 109,
   "metadata": {},
   "outputs": [],
   "source": [
    "test = get_num(5, major='best-colleges-for-biology')"
   ]
  },
  {
   "cell_type": "code",
   "execution_count": 110,
   "metadata": {},
   "outputs": [
    {
     "data": {
      "text/plain": [
       "['Harvard University',\n",
       " 'Stanford University',\n",
       " 'Yale University',\n",
       " 'Massachusetts Institute of Technology',\n",
       " 'Duke University',\n",
       " 'Brown University',\n",
       " 'Vanderbilt University',\n",
       " 'Princeton University',\n",
       " 'Washington University in St. Louis',\n",
       " 'Rice University',\n",
       " 'Columbia University',\n",
       " 'University of Pennsylvania',\n",
       " 'Northwestern University',\n",
       " 'Cornell University',\n",
       " 'Johns Hopkins University',\n",
       " 'University of Chicago',\n",
       " 'California Institute of Technology',\n",
       " 'University of Southern California',\n",
       " 'Dartmouth College',\n",
       " 'Georgetown University',\n",
       " 'University of Notre Dame',\n",
       " 'Pomona College',\n",
       " 'Tufts University',\n",
       " 'University of Michigan - Ann Arbor',\n",
       " 'Emory University',\n",
       " 'Bowdoin College',\n",
       " 'University of California - Los Angeles',\n",
       " 'Northeastern University',\n",
       " 'Amherst College',\n",
       " 'Carnegie Mellon University',\n",
       " 'Boston College',\n",
       " 'Swarthmore College',\n",
       " 'University of Wisconsin',\n",
       " 'University of North Carolina at Chapel Hill',\n",
       " 'Scripps College',\n",
       " 'Haverford College',\n",
       " 'Carleton College',\n",
       " 'Middlebury College',\n",
       " 'New York University',\n",
       " 'Wellesley College',\n",
       " 'William & Mary',\n",
       " 'University of California - Berkeley',\n",
       " 'Case Western Reserve University',\n",
       " 'University of Virginia',\n",
       " 'Washington & Lee University',\n",
       " 'Tulane University',\n",
       " 'Boston University',\n",
       " 'University of Florida',\n",
       " 'University of Miami',\n",
       " 'Brigham Young University',\n",
       " 'Williams College',\n",
       " 'Grinnell College',\n",
       " 'Wake Forest University',\n",
       " 'University of Texas - Austin',\n",
       " 'University of Rochester',\n",
       " 'Wesleyan University',\n",
       " 'Barnard College',\n",
       " 'Claremont McKenna College',\n",
       " 'Colby College',\n",
       " 'Colgate University',\n",
       " 'Davidson College',\n",
       " 'Brandeis University',\n",
       " 'Vassar College',\n",
       " 'Reed College',\n",
       " 'University of Minnesota - Twin Cities',\n",
       " 'University of Georgia',\n",
       " 'Harvey Mudd College',\n",
       " 'University of Richmond',\n",
       " 'Georgia Institute of Technology',\n",
       " 'University of Pittsburgh',\n",
       " 'Whitman College',\n",
       " 'Rhodes College',\n",
       " 'Pitzer College',\n",
       " 'Bates College',\n",
       " 'Kenyon College',\n",
       " 'Hamilton College',\n",
       " 'Clemson University',\n",
       " 'University of Illinois at Urbana-Champaign',\n",
       " 'Rensselaer Polytechnic Institute',\n",
       " 'Colorado College',\n",
       " 'Mount Holyoke College',\n",
       " 'The Ohio State University',\n",
       " 'Virginia Tech',\n",
       " 'University of California - Santa Barbara',\n",
       " 'University of Washington',\n",
       " 'Lehigh University',\n",
       " 'Michigan State University',\n",
       " 'University of California - San Diego',\n",
       " 'Macalester College',\n",
       " 'Bucknell University',\n",
       " 'Southern Methodist University',\n",
       " 'University of California - Davis',\n",
       " 'Texas A&M University',\n",
       " 'Smith College',\n",
       " 'Villanova University',\n",
       " 'Penn State',\n",
       " 'North Carolina State University',\n",
       " 'Baylor University',\n",
       " 'College of the Holy Cross',\n",
       " 'Bryn Mawr College',\n",
       " 'Miami University',\n",
       " 'Trinity University - Texas',\n",
       " 'Santa Clara University',\n",
       " 'Albany College of Pharmacy & Health Sciences',\n",
       " 'University of Maryland - College Park',\n",
       " 'Indiana University - Bloomington',\n",
       " 'Texas Christian University',\n",
       " 'Lawrence University',\n",
       " 'University of California - Irvine',\n",
       " 'St. Olaf College',\n",
       " 'Union College - New York',\n",
       " 'University of San Diego',\n",
       " 'University of Alabama - Birmingham',\n",
       " 'George Washington University',\n",
       " 'Skidmore College',\n",
       " 'Auburn University',\n",
       " 'Hillsdale College',\n",
       " 'United States Military Academy at West Point',\n",
       " 'University of Colorado - Boulder',\n",
       " 'Occidental College',\n",
       " 'University of South Florida',\n",
       " 'Hendrix College',\n",
       " 'Loyola University Chicago',\n",
       " 'Florida State University',\n",
       " 'University of Vermont']"
      ]
     },
     "execution_count": 110,
     "metadata": {},
     "output_type": "execute_result"
    }
   ],
   "source": [
    "test"
   ]
  },
  {
   "cell_type": "code",
   "execution_count": null,
   "metadata": {},
   "outputs": [],
   "source": []
  }
 ],
 "metadata": {
  "kernelspec": {
   "display_name": "Python 3",
   "language": "python",
   "name": "python3"
  },
  "language_info": {
   "codemirror_mode": {
    "name": "ipython",
    "version": 3
   },
   "file_extension": ".py",
   "mimetype": "text/x-python",
   "name": "python",
   "nbconvert_exporter": "python",
   "pygments_lexer": "ipython3",
   "version": "3.7.7"
  }
 },
 "nbformat": 4,
 "nbformat_minor": 4
}
